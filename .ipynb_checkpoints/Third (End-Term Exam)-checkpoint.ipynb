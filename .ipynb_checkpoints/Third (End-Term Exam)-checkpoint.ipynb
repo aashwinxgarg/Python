{
 "cells": [
  {
   "cell_type": "code",
   "execution_count": 305,
   "id": "2400dd94",
   "metadata": {
    "scrolled": true
   },
   "outputs": [
    {
     "data": {
      "text/plain": [
       "'\\ninterchanging first and last word in a string\\n'"
      ]
     },
     "execution_count": 305,
     "metadata": {},
     "output_type": "execute_result"
    }
   ],
   "source": [
    "'''\n",
    "interchanging first and last word in a string\n",
    "'''\n",
    "# a='happy is not guy'\n",
    "# b=a.split()\n",
    "# #print(b[0])\n",
    "# b[0],b[-1]=b[-1],b[0]\n",
    "# print(b)\n",
    "# c=''\n",
    "# for i in b:\n",
    "#     print(i,end=' ')\n",
    "# ' '.join(map(str,b))"
   ]
  },
  {
   "cell_type": "code",
   "execution_count": 306,
   "id": "ab68ed96",
   "metadata": {},
   "outputs": [
    {
     "data": {
      "text/plain": [
       "'\\ncapitalizing first and last letters of a each word in a string\\n'"
      ]
     },
     "execution_count": 306,
     "metadata": {},
     "output_type": "execute_result"
    }
   ],
   "source": [
    "'''\n",
    "capitalizing first and last letters of a each word in a string\n",
    "'''\n",
    "# a='abhishek pal'\n",
    "# b=a.split()\n",
    "# c=b[0][0].upper()\n",
    "# d=b[0][-1].upper()\n",
    "# e=b[1][0].upper()\n",
    "# f=b[1][-1].upper()\n",
    "# g=c+b[0][1:-1]+d+' '+e+b[1][1:-1]+f\n",
    "# print(g)"
   ]
  },
  {
   "cell_type": "code",
   "execution_count": 307,
   "id": "b6375d51",
   "metadata": {},
   "outputs": [
    {
     "data": {
      "text/plain": [
       "'\\ncapitalizing first and last letters of a each word in a string\\n'"
      ]
     },
     "execution_count": 307,
     "metadata": {},
     "output_type": "execute_result"
    }
   ],
   "source": [
    "'''\n",
    "capitalizing first and last letters of a each word in a string\n",
    "'''\n",
    "# a='abhishek pal'\n",
    "# b=a.split()\n",
    "# print(b)\n",
    "# d=''\n",
    "# for i in b:\n",
    "#     x=i[0].upper()+i[1:-1]+i[-1].upper()\n",
    "#     d.join(x)\n",
    "# print(d)"
   ]
  },
  {
   "cell_type": "code",
   "execution_count": 308,
   "id": "d525e667",
   "metadata": {},
   "outputs": [
    {
     "data": {
      "text/plain": [
       "'\\nfactorial of a number\\n'"
      ]
     },
     "execution_count": 308,
     "metadata": {},
     "output_type": "execute_result"
    }
   ],
   "source": [
    "'''\n",
    "factorial of a number\n",
    "'''\n",
    "# def fact(n):\n",
    "#     f=1\n",
    "#     for i in range(1,n+1):\n",
    "#         f=f*i\n",
    "#     return f\n",
    "# a=int(input())\n",
    "# print(fact(a))"
   ]
  },
  {
   "cell_type": "code",
   "execution_count": 309,
   "id": "48d89ff5",
   "metadata": {},
   "outputs": [
    {
     "data": {
      "text/plain": [
       "'\\nfactorial of a number\\n'"
      ]
     },
     "execution_count": 309,
     "metadata": {},
     "output_type": "execute_result"
    }
   ],
   "source": [
    "'''\n",
    "factorial of a number\n",
    "'''\n",
    "# def fact(n):\n",
    "#     if n==0:\n",
    "#         return 1\n",
    "#     else:\n",
    "#         return n*fact(n-1)\n",
    "# fact(5)"
   ]
  },
  {
   "cell_type": "code",
   "execution_count": 310,
   "id": "27f53be8",
   "metadata": {},
   "outputs": [
    {
     "data": {
      "text/plain": [
       "'\\nfinding simple interest\\n'"
      ]
     },
     "execution_count": 310,
     "metadata": {},
     "output_type": "execute_result"
    }
   ],
   "source": [
    "'''\n",
    "finding simple interest\n",
    "'''\n",
    "# p=int(input())\n",
    "# r=int(input())\n",
    "# t=int(input())\n",
    "# si=p*r*t/100\n",
    "# print(si)"
   ]
  },
  {
   "cell_type": "code",
   "execution_count": 311,
   "id": "050e5bd1",
   "metadata": {
    "scrolled": true
   },
   "outputs": [
    {
     "data": {
      "text/plain": [
       "'\\nfinding compound interest\\n'"
      ]
     },
     "execution_count": 311,
     "metadata": {},
     "output_type": "execute_result"
    }
   ],
   "source": [
    "'''\n",
    "finding compound interest\n",
    "'''\n",
    "# a=1200\n",
    "# b=5.4\n",
    "# c=2\n",
    "# def ci(p,r,t):\n",
    "#     a= pow((1+r/100),t)\n",
    "#     b=p*a\n",
    "#     ci=b-p\n",
    "#     return ci\n",
    "# print('Compound Interest',ci(1200,5.4,2))"
   ]
  },
  {
   "cell_type": "code",
   "execution_count": 312,
   "id": "a3e3d3ce",
   "metadata": {},
   "outputs": [
    {
     "data": {
      "text/plain": [
       "'\\nchecking armstrong number\\n'"
      ]
     },
     "execution_count": 312,
     "metadata": {},
     "output_type": "execute_result"
    }
   ],
   "source": [
    "'''\n",
    "checking armstrong number\n",
    "'''\n",
    "# n=1634\n",
    "# s=n\n",
    "# sum1=0\n",
    "# b=len(str(n))\n",
    "# while n!=0:\n",
    "#     r=n%10\n",
    "#     sum1+=(r**b)\n",
    "#     n=n//10\n",
    "# if s==sum1:\n",
    "#     print(True)\n",
    "# else:\n",
    "#     print(False)"
   ]
  },
  {
   "cell_type": "code",
   "execution_count": 313,
   "id": "168c26a9",
   "metadata": {},
   "outputs": [
    {
     "data": {
      "text/plain": [
       "'\\nfinding area of a circle\\n'"
      ]
     },
     "execution_count": 313,
     "metadata": {},
     "output_type": "execute_result"
    }
   ],
   "source": [
    "'''\n",
    "finding area of a circle\n",
    "'''\n",
    "# def area(r):\n",
    "#     pi=3.14\n",
    "#     area=pi*(r*r)\n",
    "#     return area\n",
    "# area(4)"
   ]
  },
  {
   "cell_type": "code",
   "execution_count": 314,
   "id": "242ef38a",
   "metadata": {},
   "outputs": [
    {
     "data": {
      "text/plain": [
       "'\\nchecking a prime number\\n'"
      ]
     },
     "execution_count": 314,
     "metadata": {},
     "output_type": "execute_result"
    }
   ],
   "source": [
    "'''\n",
    "checking a prime number\n",
    "'''\n",
    "# def prime(n):\n",
    "#     for i in range(2,n):\n",
    "#        # a=True\n",
    "#         if n%i==0:\n",
    "#             a=False\n",
    "#             #print(n)\n",
    "#         else:\n",
    "#             a=True\n",
    "#     return a\n",
    "# prime(5)"
   ]
  },
  {
   "cell_type": "code",
   "execution_count": 315,
   "id": "e4eae455",
   "metadata": {},
   "outputs": [
    {
     "data": {
      "text/plain": [
       "'\\nprinting prime numbers of an interval\\n'"
      ]
     },
     "execution_count": 315,
     "metadata": {},
     "output_type": "execute_result"
    }
   ],
   "source": [
    "'''\n",
    "printing prime numbers of an interval\n",
    "'''\n",
    "# def prime(x,y):\n",
    "#     p=[]\n",
    "#     for i in range(x,y):\n",
    "#         if i==0 or i==1:\n",
    "#             continue\n",
    "#         else:\n",
    "#             for j in range(2,int(i/2)+1):\n",
    "#                 if i%j==0:\n",
    "#                     break\n",
    "#             else:\n",
    "#                 p.append(i)\n",
    "#     return p\n",
    "# prime(2,12)"
   ]
  },
  {
   "cell_type": "code",
   "execution_count": 316,
   "id": "bfe49969",
   "metadata": {},
   "outputs": [
    {
     "data": {
      "text/plain": [
       "'\\nfinding nth fibonacci series\\n'"
      ]
     },
     "execution_count": 316,
     "metadata": {},
     "output_type": "execute_result"
    }
   ],
   "source": [
    "'''\n",
    "finding nth fibonacci series\n",
    "'''\n",
    "# a=0\n",
    "# b=1\n",
    "# n=int(input())\n",
    "# if n==1:\n",
    "#     print(0)\n",
    "# elif n==0:\n",
    "#     print(0)\n",
    "# elif n==2:\n",
    "#     print(1)\n",
    "# else:\n",
    "#     for i in range(3,n+1):\n",
    "#         c=b+a\n",
    "#         a=b\n",
    "#         b=c\n",
    "# print(c)"
   ]
  },
  {
   "cell_type": "code",
   "execution_count": 317,
   "id": "8b819a54",
   "metadata": {},
   "outputs": [
    {
     "data": {
      "text/plain": [
       "'\\nprinting ascii value of a character\\n'"
      ]
     },
     "execution_count": 317,
     "metadata": {},
     "output_type": "execute_result"
    }
   ],
   "source": [
    "'''\n",
    "printing ascii value of a character\n",
    "'''\n",
    "# a=input()\n",
    "# print(ord(a))"
   ]
  },
  {
   "cell_type": "code",
   "execution_count": 318,
   "id": "f800e2c5",
   "metadata": {},
   "outputs": [
    {
     "data": {
      "text/plain": [
       "'\\nsum of squares of first n natural numbers\\n'"
      ]
     },
     "execution_count": 318,
     "metadata": {},
     "output_type": "execute_result"
    }
   ],
   "source": [
    "'''\n",
    "sum of squares of first n natural numbers\n",
    "'''\n",
    "# n=int(input())\n",
    "# sum=0\n",
    "# for i in range(n+1):\n",
    "#     sum+=(i*i)\n",
    "# print(sum)"
   ]
  },
  {
   "cell_type": "code",
   "execution_count": 319,
   "id": "3c51dab6",
   "metadata": {},
   "outputs": [
    {
     "data": {
      "text/plain": [
       "'\\nsum of cubes of first n natural numbers\\n'"
      ]
     },
     "execution_count": 319,
     "metadata": {},
     "output_type": "execute_result"
    }
   ],
   "source": [
    "'''\n",
    "sum of cubes of first n natural numbers\n",
    "'''\n",
    "# n=int(input())\n",
    "# sum=0\n",
    "# for i in range(n+1):\n",
    "#     sum+=(i**3)\n",
    "# print(sum)"
   ]
  },
  {
   "cell_type": "code",
   "execution_count": 341,
   "id": "b8df8657",
   "metadata": {},
   "outputs": [
    {
     "data": {
      "text/plain": [
       "'\\nfinding sum of array\\n'"
      ]
     },
     "execution_count": 341,
     "metadata": {},
     "output_type": "execute_result"
    }
   ],
   "source": [
    "'''\n",
    "finding sum of array\n",
    "'''\n",
    "# a=[15,12,13,10]\n",
    "# c=0\n",
    "# d=0\n",
    "# for i in a:\n",
    "#     c=i\n",
    "#     d+=c\n",
    "# print(d)"
   ]
  },
  {
   "cell_type": "code",
   "execution_count": 345,
   "id": "4262bdde",
   "metadata": {},
   "outputs": [
    {
     "data": {
      "text/plain": [
       "'\\nfinding largest element in an array\\n'"
      ]
     },
     "execution_count": 345,
     "metadata": {},
     "output_type": "execute_result"
    }
   ],
   "source": [
    "'''\n",
    "finding largest element in an array\n",
    "'''\n",
    "# a=[10, 324, 45, 90, 9808]\n",
    "# c=0\n",
    "# for i in a:\n",
    "#     if i>c:\n",
    "#         c=i\n",
    "#     else:\n",
    "#         pass\n",
    "# print(c)"
   ]
  },
  {
   "cell_type": "code",
   "execution_count": 366,
   "id": "cb66f1d7",
   "metadata": {},
   "outputs": [
    {
     "data": {
      "text/plain": [
       "'\\narray rotation\\n'"
      ]
     },
     "execution_count": 366,
     "metadata": {},
     "output_type": "execute_result"
    }
   ],
   "source": [
    "'''\n",
    "array rotation\n",
    "'''\n",
    "# a=[1,2,3,4,5,6,7]\n",
    "# n=2\n",
    "# for i in range(n):\n",
    "#     b=a[0]\n",
    "#     c=a[1:]+[b]\n",
    "#     a=c\n",
    "# print(c)"
   ]
  },
  {
   "cell_type": "code",
   "execution_count": 371,
   "id": "00c6faca",
   "metadata": {},
   "outputs": [
    {
     "data": {
      "text/plain": [
       "'\\nfind the length of the list\\n'"
      ]
     },
     "execution_count": 371,
     "metadata": {},
     "output_type": "execute_result"
    }
   ],
   "source": [
    "'''\n",
    "find the length of the list\n",
    "'''\n",
    "# a=[10,20,40]\n",
    "# print(len(a))"
   ]
  },
  {
   "cell_type": "code",
   "execution_count": 375,
   "id": "32d921a1",
   "metadata": {},
   "outputs": [
    {
     "data": {
      "text/plain": [
       "'\\nelement exists in python or not\\n'"
      ]
     },
     "execution_count": 375,
     "metadata": {},
     "output_type": "execute_result"
    }
   ],
   "source": [
    "'''\n",
    "element exists in python or not\n",
    "'''\n",
    "# a=[1,6,3,5,3,4]\n",
    "# n=7\n",
    "# if n in a:\n",
    "#     print(True)\n",
    "# else:\n",
    "#     print(False)"
   ]
  },
  {
   "cell_type": "code",
   "execution_count": 378,
   "id": "20680355",
   "metadata": {},
   "outputs": [
    {
     "data": {
      "text/plain": [
       "'\\nclearing a list\\n'"
      ]
     },
     "execution_count": 378,
     "metadata": {},
     "output_type": "execute_result"
    }
   ],
   "source": [
    "'''\n",
    "clearing a list\n",
    "'''\n",
    "# a=[6,0,4,1]\n",
    "# a.clear()\n",
    "# print(a)"
   ]
  },
  {
   "cell_type": "code",
   "execution_count": null,
   "id": "d9fd32df",
   "metadata": {},
   "outputs": [],
   "source": []
  }
 ],
 "metadata": {
  "kernelspec": {
   "display_name": "Python 3 (ipykernel)",
   "language": "python",
   "name": "python3"
  },
  "language_info": {
   "codemirror_mode": {
    "name": "ipython",
    "version": 3
   },
   "file_extension": ".py",
   "mimetype": "text/x-python",
   "name": "python",
   "nbconvert_exporter": "python",
   "pygments_lexer": "ipython3",
   "version": "3.9.13"
  }
 },
 "nbformat": 4,
 "nbformat_minor": 5
}
