{
 "cells": [
  {
   "cell_type": "code",
   "execution_count": null,
   "id": "e1bbb851",
   "metadata": {},
   "outputs": [],
   "source": [
    "if True or True:\n",
    "    if False and True or False:\n",
    "        print('A')\n",
    "    elif False and False or True and True:\n",
    "        print('B')\n",
    "    else:\n",
    "        print('C')\n",
    "else:\n",
    "    print('D')\n",
    "gali=\"Bhen k lode\"\n",
    "print(\"adarsh\", gali)"
   ]
  },
  {
   "cell_type": "code",
   "execution_count": null,
   "id": "602600ff",
   "metadata": {},
   "outputs": [],
   "source": [
    "from pyflowchart import *\n",
    "\n",
    "st = StartNode('a_pyflow_test')\n",
    "op = OperationNode('do something')\n",
    "cond = ConditionNode('Yes or No?')\n",
    "io = InputOutputNode(InputOutputNode.OUTPUT, 'something...')\n",
    "sub = SubroutineNode('A Subroutine')\n",
    "e = EndNode('a_pyflow_test')\n",
    "\n",
    "st.connect(op)\n",
    "op.connect(cond)\n",
    "cond.connect_yes(io)\n",
    "cond.connect_no(sub)\n",
    "sub.connect(op, \"right\")  # sub->op line starts from the right of sub\n",
    "io.connect(e)\n",
    " \n",
    "fc = Flowchart(st)\n",
    "print(fc.flowchart())"
   ]
  },
  {
   "cell_type": "code",
   "execution_count": null,
   "id": "d4872ffb",
   "metadata": {},
   "outputs": [],
   "source": [
    "a='12alpha'\n",
    "b='alpha'\n",
    "c='12'\n",
    "#c.isnumeric()\n",
    "#c.isalpha()\n",
    "c.isalnum()"
   ]
  },
  {
   "cell_type": "code",
   "execution_count": null,
   "id": "a05f5d3e",
   "metadata": {},
   "outputs": [],
   "source": [
    "n=input()\n",
    "print(n[0])"
   ]
  },
  {
   "cell_type": "code",
   "execution_count": null,
   "id": "c296f004",
   "metadata": {},
   "outputs": [],
   "source": [
    "x=5\n",
    "y=2\n",
    "sum= x+y\n",
    "sub= x-y\n",
    "mul= x*y\n",
    "div= x/y\n",
    "quo= x//y\n",
    "expo= x**y\n",
    "print(\"the sum is\",sum,\", sub is\", sub,\", the mul is\", mul,\", the div is\", div,\", the quo is\", quo,\", the expo is\", expo, \".\") "
   ]
  },
  {
   "cell_type": "code",
   "execution_count": null,
   "id": "fc7b2cd8",
   "metadata": {},
   "outputs": [],
   "source": [
    "a= f\"hello\"\n",
    "print(a)"
   ]
  },
  {
   "cell_type": "code",
   "execution_count": null,
   "id": "bc424b18",
   "metadata": {},
   "outputs": [],
   "source": [
    "a=12\n",
    "b=15\n",
    "print(a,b)"
   ]
  },
  {
   "cell_type": "code",
   "execution_count": null,
   "id": "b058d24f",
   "metadata": {},
   "outputs": [],
   "source": [
    "a=input()\n",
    "x=int(a)\n",
    "b=input()\n",
    "y=int(b)\n",
    "sum=x+y\n",
    "print(sum)"
   ]
  },
  {
   "cell_type": "code",
   "execution_count": null,
   "id": "03b5b6b2",
   "metadata": {},
   "outputs": [],
   "source": [
    "__a__=12 #dunder variables"
   ]
  },
  {
   "cell_type": "code",
   "execution_count": null,
   "id": "043ad092",
   "metadata": {},
   "outputs": [],
   "source": [
    "a=300"
   ]
  },
  {
   "cell_type": "code",
   "execution_count": null,
   "id": "1d9f1092",
   "metadata": {},
   "outputs": [],
   "source": [
    "b=3000000000"
   ]
  },
  {
   "cell_type": "code",
   "execution_count": null,
   "id": "684ab9a2",
   "metadata": {},
   "outputs": [],
   "source": [
    "id(a)"
   ]
  },
  {
   "cell_type": "code",
   "execution_count": null,
   "id": "34e176fc",
   "metadata": {
    "scrolled": true
   },
   "outputs": [],
   "source": [
    "id(b)"
   ]
  },
  {
   "cell_type": "code",
   "execution_count": null,
   "id": "bc618fef",
   "metadata": {},
   "outputs": [],
   "source": [
    "a.bit_length()"
   ]
  },
  {
   "cell_type": "code",
   "execution_count": null,
   "id": "e0fe5523",
   "metadata": {},
   "outputs": [],
   "source": [
    "a=12.34"
   ]
  },
  {
   "cell_type": "code",
   "execution_count": null,
   "id": "68da1bb4",
   "metadata": {},
   "outputs": [],
   "source": [
    "a.bit_length() #float numbers do not have bit length function"
   ]
  },
  {
   "cell_type": "code",
   "execution_count": null,
   "id": "2782fc92",
   "metadata": {},
   "outputs": [],
   "source": [
    "a=1+5+6j;b='Hello'\n",
    "print(a)"
   ]
  },
  {
   "cell_type": "code",
   "execution_count": null,
   "id": "f35100d1",
   "metadata": {},
   "outputs": [],
   "source": [
    "a=\"true\"\n",
    "print(a)"
   ]
  },
  {
   "cell_type": "code",
   "execution_count": null,
   "id": "5e816a1e",
   "metadata": {},
   "outputs": [],
   "source": [
    "b=1_34_345"
   ]
  },
  {
   "cell_type": "code",
   "execution_count": null,
   "id": "38f410e9",
   "metadata": {},
   "outputs": [],
   "source": [
    "print(b)"
   ]
  },
  {
   "cell_type": "code",
   "execution_count": null,
   "id": "b82f2b92",
   "metadata": {},
   "outputs": [],
   "source": [
    "x = \"10\"\n",
    "y = 20\n",
    "print(int(x)+y)\n",
    "print(type(x))\n",
    "print(type(y))"
   ]
  },
  {
   "cell_type": "code",
   "execution_count": null,
   "id": "ada42e8b",
   "metadata": {},
   "outputs": [],
   "source": [
    "type(x)"
   ]
  },
  {
   "cell_type": "code",
   "execution_count": null,
   "id": "26fc9b90",
   "metadata": {},
   "outputs": [],
   "source": [
    "mystring=\"welcome\"\n",
    "mystring='welcome'\n",
    "mystring=\"'welcome'\""
   ]
  },
  {
   "cell_type": "code",
   "execution_count": null,
   "id": "59928406",
   "metadata": {},
   "outputs": [],
   "source": [
    "type(mystring)"
   ]
  },
  {
   "cell_type": "code",
   "execution_count": null,
   "id": "e55c7f91",
   "metadata": {},
   "outputs": [],
   "source": [
    "complex(3)"
   ]
  },
  {
   "cell_type": "code",
   "execution_count": null,
   "id": "7af96949",
   "metadata": {},
   "outputs": [],
   "source": [
    "complex(3+5j)"
   ]
  },
  {
   "cell_type": "code",
   "execution_count": null,
   "id": "453fde4f",
   "metadata": {},
   "outputs": [],
   "source": [
    "complex(5j)"
   ]
  },
  {
   "cell_type": "code",
   "execution_count": null,
   "id": "4bbf723c",
   "metadata": {},
   "outputs": [],
   "source": [
    "bool=1"
   ]
  },
  {
   "cell_type": "code",
   "execution_count": null,
   "id": "8e5ca884",
   "metadata": {},
   "outputs": [],
   "source": [
    "type(bool)"
   ]
  },
  {
   "cell_type": "code",
   "execution_count": null,
   "id": "675e625d",
   "metadata": {},
   "outputs": [],
   "source": [
    "del bool"
   ]
  },
  {
   "cell_type": "code",
   "execution_count": null,
   "id": "a02e7b22",
   "metadata": {},
   "outputs": [],
   "source": [
    "bool(1)"
   ]
  },
  {
   "cell_type": "code",
   "execution_count": null,
   "id": "9234382c",
   "metadata": {},
   "outputs": [],
   "source": [
    "# Storing Binary, Hexadecimal or Octal Values"
   ]
  },
  {
   "cell_type": "code",
   "execution_count": null,
   "id": "e9198317",
   "metadata": {},
   "outputs": [],
   "source": [
    "# 0b , 0x,   0o"
   ]
  },
  {
   "cell_type": "code",
   "execution_count": null,
   "id": "65e72a56",
   "metadata": {},
   "outputs": [],
   "source": [
    "# Type and Id of a Variable"
   ]
  },
  {
   "cell_type": "code",
   "execution_count": null,
   "id": "81cfeaee",
   "metadata": {},
   "outputs": [],
   "source": [
    "# Arithmetic Expression"
   ]
  },
  {
   "cell_type": "code",
   "execution_count": null,
   "id": "a4fdf5d8",
   "metadata": {},
   "outputs": [],
   "source": [
    "# Arithmetic Operators (Unary|Binary)\n",
    "# + - / *        //   ** (Exponentiation)  %Modulus (Remainder)|"
   ]
  },
  {
   "cell_type": "code",
   "execution_count": null,
   "id": "ea510074",
   "metadata": {},
   "outputs": [],
   "source": [
    "a=33\n",
    "b=15"
   ]
  },
  {
   "cell_type": "code",
   "execution_count": null,
   "id": "1e73ca50",
   "metadata": {},
   "outputs": [],
   "source": [
    "i=f\"hello\"\n",
    "print(i)"
   ]
  },
  {
   "cell_type": "code",
   "execution_count": null,
   "id": "91225347",
   "metadata": {},
   "outputs": [],
   "source": [
    "type(i)"
   ]
  },
  {
   "cell_type": "code",
   "execution_count": null,
   "id": "72b5cd9e",
   "metadata": {},
   "outputs": [],
   "source": [
    "a/b"
   ]
  },
  {
   "cell_type": "code",
   "execution_count": null,
   "id": "f2b7f538",
   "metadata": {},
   "outputs": [],
   "source": [
    "a//b"
   ]
  },
  {
   "cell_type": "code",
   "execution_count": null,
   "id": "9b4aa051",
   "metadata": {},
   "outputs": [],
   "source": [
    "a*b"
   ]
  },
  {
   "cell_type": "code",
   "execution_count": null,
   "id": "9c34dddd",
   "metadata": {},
   "outputs": [],
   "source": [
    "a%b"
   ]
  },
  {
   "cell_type": "code",
   "execution_count": null,
   "id": "59ef5987",
   "metadata": {},
   "outputs": [],
   "source": [
    "(((((182345678//10)//10)//10)//10)//10)//10"
   ]
  },
  {
   "cell_type": "code",
   "execution_count": null,
   "id": "9032c13e",
   "metadata": {},
   "outputs": [],
   "source": [
    "2**2**3"
   ]
  },
  {
   "cell_type": "markdown",
   "id": "a00f82e5",
   "metadata": {},
   "source": [
    "**Python is a Dynamically Typed or Statically Typed Language????**"
   ]
  },
  {
   "cell_type": "markdown",
   "id": "501d1256",
   "metadata": {},
   "source": [
    "**Is Python Strongly Typed or Weakly Typed (Loosly typed) Language**"
   ]
  },
  {
   "cell_type": "code",
   "execution_count": null,
   "id": "fe5c06b4",
   "metadata": {},
   "outputs": [],
   "source": [
    "a=12\n",
    "a=\"sdf\""
   ]
  },
  {
   "cell_type": "code",
   "execution_count": null,
   "id": "21cb55be",
   "metadata": {},
   "outputs": [],
   "source": [
    "type(a)"
   ]
  },
  {
   "cell_type": "code",
   "execution_count": null,
   "id": "e5c9dd50",
   "metadata": {},
   "outputs": [],
   "source": [
    "a=12\n",
    "b=\"2\""
   ]
  },
  {
   "cell_type": "code",
   "execution_count": null,
   "id": "e5fc3423",
   "metadata": {},
   "outputs": [],
   "source": [
    "a+b"
   ]
  },
  {
   "cell_type": "code",
   "execution_count": null,
   "id": "06e18c3b",
   "metadata": {},
   "outputs": [],
   "source": [
    "a+int(b)"
   ]
  },
  {
   "cell_type": "code",
   "execution_count": null,
   "id": "43c7d6c9",
   "metadata": {},
   "outputs": [],
   "source": [
    "a=12\n",
    "b=23.45"
   ]
  },
  {
   "cell_type": "code",
   "execution_count": null,
   "id": "87e88dbd",
   "metadata": {},
   "outputs": [],
   "source": [
    "a+(3+6.7j)"
   ]
  },
  {
   "cell_type": "code",
   "execution_count": null,
   "id": "c4bc34a1",
   "metadata": {},
   "outputs": [],
   "source": [
    "b+(3+6.7j)"
   ]
  },
  {
   "cell_type": "code",
   "execution_count": null,
   "id": "6f2691d5",
   "metadata": {},
   "outputs": [],
   "source": [
    "a=input(\"Enter an Integer Value\")"
   ]
  },
  {
   "cell_type": "code",
   "execution_count": null,
   "id": "5778b1bb",
   "metadata": {},
   "outputs": [],
   "source": [
    "a=input()\n",
    "b=input()\n",
    "sum=int(a)+int(b)\n",
    "print(sum)"
   ]
  },
  {
   "cell_type": "code",
   "execution_count": null,
   "id": "a057e56b",
   "metadata": {},
   "outputs": [],
   "source": [
    "a=input()"
   ]
  },
  {
   "cell_type": "code",
   "execution_count": null,
   "id": "4f6b5362",
   "metadata": {},
   "outputs": [],
   "source": [
    "mystring=f'this is an example of fstring'"
   ]
  },
  {
   "cell_type": "code",
   "execution_count": null,
   "id": "1efb1c61",
   "metadata": {},
   "outputs": [],
   "source": [
    "print(mystring)"
   ]
  },
  {
   "cell_type": "code",
   "execution_count": null,
   "id": "23ad32a4",
   "metadata": {
    "scrolled": true
   },
   "outputs": [],
   "source": [
    "a=23\n",
    "b=45\n",
    "print(\"I have \",a,\"pens which costs each @\",b)"
   ]
  },
  {
   "cell_type": "code",
   "execution_count": null,
   "id": "fb52f78a",
   "metadata": {},
   "outputs": [],
   "source": [
    "print(\"Hello World 6\")"
   ]
  },
  {
   "cell_type": "code",
   "execution_count": null,
   "id": "08734430",
   "metadata": {},
   "outputs": [],
   "source": []
  },
  {
   "cell_type": "code",
   "execution_count": null,
   "id": "dd90037d",
   "metadata": {},
   "outputs": [],
   "source": [
    "name = \"Dave\"\n",
    "print(\"name\")"
   ]
  },
  {
   "cell_type": "code",
   "execution_count": null,
   "id": "bebb47e6",
   "metadata": {},
   "outputs": [],
   "source": [
    "x= 50\n",
    "print(\"{0:1f}\".format(x))"
   ]
  },
  {
   "cell_type": "code",
   "execution_count": null,
   "id": "ba235108",
   "metadata": {},
   "outputs": [],
   "source": [
    "x=22.19\n",
    "print(\"%5.2f\"%x)"
   ]
  },
  {
   "cell_type": "code",
   "execution_count": null,
   "id": "bb5252d7",
   "metadata": {},
   "outputs": [],
   "source": [
    "print(\"Hello World!\" * 2)"
   ]
  },
  {
   "cell_type": "code",
   "execution_count": null,
   "id": "9aac4374",
   "metadata": {},
   "outputs": [],
   "source": [
    "s='{0}, {1}, and {2}'\n",
    "s.format('hello', 'good', 'morning')"
   ]
  },
  {
   "cell_type": "code",
   "execution_count": null,
   "id": "c384b5d6",
   "metadata": {},
   "outputs": [],
   "source": [
    "4+3%5"
   ]
  },
  {
   "cell_type": "code",
   "execution_count": null,
   "id": "b1d63c85",
   "metadata": {},
   "outputs": [],
   "source": [
    "'''\n",
    "Hello, a comment\n",
    "'''"
   ]
  },
  {
   "cell_type": "code",
   "execution_count": null,
   "id": "71691848",
   "metadata": {},
   "outputs": [],
   "source": [
    "#please ignore\n",
    "\"\"\"\n",
    "ignore this\n",
    "because this\n",
    "is a comment\n",
    "\"\"\"\n",
    "\"\"\"This is a comment\n",
    "\"\"\""
   ]
  },
  {
   "cell_type": "code",
   "execution_count": null,
   "id": "0f1a654d",
   "metadata": {},
   "outputs": [],
   "source": [
    "print(\"Subscribe to Code with Harry\", end=\". \")\n",
    "print(\"Bhai video bhi like karde.\")"
   ]
  },
  {
   "cell_type": "code",
   "execution_count": null,
   "id": "efeb72e0",
   "metadata": {},
   "outputs": [],
   "source": [
    "print(\"c:\\\\narry\")"
   ]
  },
  {
   "cell_type": "code",
   "execution_count": null,
   "id": "ff805364",
   "metadata": {},
   "outputs": [],
   "source": [
    "#print(\"c:'\\narry\")\n"
   ]
  },
  {
   "cell_type": "code",
   "execution_count": null,
   "id": "970a0c7f",
   "metadata": {},
   "outputs": [],
   "source": [
    "print(\"harry is\\t1(one)/a\\tgood boy\")"
   ]
  },
  {
   "cell_type": "code",
   "execution_count": null,
   "id": "9262ce08",
   "metadata": {},
   "outputs": [],
   "source": [
    "f\"hye\\n hey\""
   ]
  },
  {
   "cell_type": "code",
   "execution_count": null,
   "id": "38a19045",
   "metadata": {},
   "outputs": [],
   "source": [
    "a= 11\n",
    "print(\"a\")\n",
    "print(a)"
   ]
  },
  {
   "cell_type": "code",
   "execution_count": null,
   "id": "97e9e54a",
   "metadata": {},
   "outputs": [],
   "source": [
    "a=15\n",
    "type(a)"
   ]
  },
  {
   "cell_type": "code",
   "execution_count": null,
   "id": "e56f98bd",
   "metadata": {},
   "outputs": [],
   "source": [
    "\"\"\"\n",
    "multi\n",
    "line \n",
    "comment\n",
    "\"\"\""
   ]
  },
  {
   "cell_type": "code",
   "execution_count": null,
   "id": "bf425242",
   "metadata": {
    "scrolled": true
   },
   "outputs": [],
   "source": [
    "print(\"hello\")\n",
    "print(10*\"hello\\n\")"
   ]
  },
  {
   "cell_type": "code",
   "execution_count": null,
   "id": "68ea45f7",
   "metadata": {},
   "outputs": [],
   "source": [
    "print(\"shuffle bhi ho skta hai yeh\")"
   ]
  },
  {
   "cell_type": "code",
   "execution_count": null,
   "id": "b71ba83f",
   "metadata": {},
   "outputs": [],
   "source": [
    "import math"
   ]
  },
  {
   "cell_type": "code",
   "execution_count": null,
   "id": "f27f7a74",
   "metadata": {},
   "outputs": [],
   "source": [
    "math.sqrt(16)"
   ]
  },
  {
   "cell_type": "code",
   "execution_count": null,
   "id": "d61292be",
   "metadata": {},
   "outputs": [],
   "source": [
    "import datetime"
   ]
  },
  {
   "cell_type": "code",
   "execution_count": null,
   "id": "978795cb",
   "metadata": {},
   "outputs": [],
   "source": [
    "math.sqrt(16)"
   ]
  },
  {
   "cell_type": "code",
   "execution_count": null,
   "id": "71048a8d",
   "metadata": {},
   "outputs": [],
   "source": [
    "cur=datetime.datetime.now()"
   ]
  },
  {
   "cell_type": "code",
   "execution_count": null,
   "id": "fb5675ed",
   "metadata": {},
   "outputs": [],
   "source": [
    "cur.second"
   ]
  },
  {
   "cell_type": "code",
   "execution_count": null,
   "id": "640469d7",
   "metadata": {},
   "outputs": [],
   "source": [
    "print(\"name\")"
   ]
  },
  {
   "cell_type": "code",
   "execution_count": null,
   "id": "5b657c8e",
   "metadata": {},
   "outputs": [],
   "source": [
    "a=int(input(\"Enter number 1- \"))\n",
    "b=int(input(\"Enter number 2- \"))\n",
    "sum= a+b\n",
    "print(\"the sum of these 2 number is\", sum)"
   ]
  },
  {
   "cell_type": "code",
   "execution_count": null,
   "id": "9fb4f8e5",
   "metadata": {},
   "outputs": [],
   "source": [
    "a=\"harry is a good boy\"\n",
    "print(type(a))\n",
    "print(len(a))\n",
    "print(a[0:18])"
   ]
  },
  {
   "cell_type": "code",
   "execution_count": null,
   "id": "952e48bf",
   "metadata": {},
   "outputs": [],
   "source": [
    "a=\"harry is a good boy\"\n",
    "print(type(a))\n",
    "print(len(a))\n",
    "print(a[-19:17])"
   ]
  },
  {
   "cell_type": "code",
   "execution_count": null,
   "id": "e4d000fd",
   "metadata": {},
   "outputs": [],
   "source": [
    "a=\"harryisagoodboy\"\n",
    "print(a.isalnum())"
   ]
  },
  {
   "cell_type": "code",
   "execution_count": null,
   "id": "32d7d6d2",
   "metadata": {},
   "outputs": [],
   "source": [
    "a=\"harryisagoodboy\"\n",
    "print(a.isalpha())"
   ]
  },
  {
   "cell_type": "code",
   "execution_count": null,
   "id": "5c40e5be",
   "metadata": {},
   "outputs": [],
   "source": [
    "a=\"harryisagoodboy.\"\n",
    "print(a.endswith(\"y.\"))"
   ]
  },
  {
   "cell_type": "code",
   "execution_count": null,
   "id": "92f0d2bd",
   "metadata": {},
   "outputs": [],
   "source": [
    "a=\"harryisagoodboy.\"\n",
    "print(a.count(\"o\"))"
   ]
  },
  {
   "cell_type": "code",
   "execution_count": null,
   "id": "949f272a",
   "metadata": {},
   "outputs": [],
   "source": [
    "a=\"harryisagoodboy.\"\n",
    "print(a.capitalize())"
   ]
  },
  {
   "cell_type": "code",
   "execution_count": null,
   "id": "b3ba6c9b",
   "metadata": {},
   "outputs": [],
   "source": [
    "a=\"harry is is agoodboy.\"\n",
    "print(a.find(\"is\"))"
   ]
  },
  {
   "cell_type": "code",
   "execution_count": null,
   "id": "cf5c9d50",
   "metadata": {},
   "outputs": [],
   "source": [
    "a=\"HarryisaGoodboy.\"\n",
    "print(a.lower())"
   ]
  },
  {
   "cell_type": "code",
   "execution_count": null,
   "id": "961986b8",
   "metadata": {},
   "outputs": [],
   "source": [
    "a=\"harryisagoodboy.\"\n",
    "print(a.upper())"
   ]
  },
  {
   "cell_type": "code",
   "execution_count": null,
   "id": "5288a3bc",
   "metadata": {
    "scrolled": true
   },
   "outputs": [],
   "source": [
    "a=\"harry is a good boy.\"\n",
    "print(a.replace(\"is\", \"are\"))"
   ]
  },
  {
   "cell_type": "code",
   "execution_count": null,
   "id": "4ff70a0b",
   "metadata": {},
   "outputs": [],
   "source": [
    "grocery=[\"vim bar\", \"harpic\", \"deodrant\", \"bhindi\", \"lollipop\"]\n",
    "print(grocery)\n",
    "print(grocery[4])\n",
    "numbers=[2, 7, 9, 11, 3]\n",
    "numbers.sort()\n",
    "print(numbers)"
   ]
  },
  {
   "cell_type": "code",
   "execution_count": null,
   "id": "e2734ae3",
   "metadata": {},
   "outputs": [],
   "source": [
    "a=12.34\n",
    "b=13\n",
    "f\"{a}\""
   ]
  },
  {
   "cell_type": "code",
   "execution_count": null,
   "id": "2d628fdd",
   "metadata": {},
   "outputs": [],
   "source": [
    "a=b"
   ]
  },
  {
   "cell_type": "code",
   "execution_count": null,
   "id": "9a778093",
   "metadata": {},
   "outputs": [],
   "source": [
    "a=int(input())\n",
    "b=int(input())\n",
    "if a>b:\n",
    "    print(\"The greater number is\", a)\n",
    "    print(\"Nice to get the answer\")\n",
    "    print(\"Thanks\")\n",
    "    if a%2==0:\n",
    "        print(\"The given number\", a, \"is even\")\n",
    "    else:\n",
    "        print(\"The given number\", a, \"is odd\")\n",
    "else:\n",
    "    print(\"The greater number\", b)\n",
    "    print(\"Nice to get the output\")\n",
    "    b=b*2\n",
    "\n",
    "    print(\"The updated value of 2nd operand is\", b)"
   ]
  },
  {
   "cell_type": "code",
   "execution_count": null,
   "id": "f726f2fa",
   "metadata": {},
   "outputs": [],
   "source": [
    "a=20\n",
    "b=10\n",
    "c=15\n",
    "d=5\n",
    "e=0\n",
    "e=(a+b)*c/d       #(30*15)/5       \n",
    "print(\"Value of (a+b)*c/d is\", e)\n",
    "e=((a+b)*c)/d     #(30*15)/5\n",
    "print(\"Valueof((a-b)*c)/d is\", e)\n",
    "e=(a+b)*(c/d)     #(30) *(15/5)\n",
    "print(\"Value of(a+b)*c/d) is\", e)"
   ]
  },
  {
   "cell_type": "code",
   "execution_count": null,
   "id": "cd20f2de",
   "metadata": {},
   "outputs": [],
   "source": [
    "numbers=[2, 7, 9, 11, 3]\n",
    "numbers.sort()\n",
    "print(numbers)"
   ]
  },
  {
   "cell_type": "code",
   "execution_count": null,
   "id": "25f95510",
   "metadata": {},
   "outputs": [],
   "source": [
    "a=int(input())\n",
    "b=int(input())\n",
    "c=int(input())\n",
    "if (a>b and a>c):\n",
    "    print(\"The greater number is\", a)\n",
    "    print(\"I am the first number in python\")\n",
    "elif b>c:\n",
    "    print(\"The greater number is\", b)\n",
    "    print(\"The middle number is highest\")\n",
    "else:\n",
    "    print(\"The greatest number is\", c)\n",
    "    print(\"I am designated as the last number\")"
   ]
  },
  {
   "cell_type": "code",
   "execution_count": null,
   "id": "c9dd66f4",
   "metadata": {},
   "outputs": [],
   "source": [
    "grocery=[\"vim bar\", \"harpic\", \"deodrant\", \"bhindi\", \"lollipop\"]\n",
    "print(grocery)\n",
    "print(grocery[4])\n",
    "numbers=[2, 7, 9, 11, 3]\n",
    "numbers.sort()\n",
    "print(numbers)\n",
    "# never use negative after 2nd colon or in the third section less than -1"
   ]
  },
  {
   "cell_type": "code",
   "execution_count": null,
   "id": "3a01e682",
   "metadata": {},
   "outputs": [],
   "source": [
    "a=int(input(\"Enter your first number \"))\n",
    "b=int(input(\"Enter your second number \"))\n",
    "c=int(input(\"Enter your third number \"))\n",
    "print(\"The maximum of these three numbers is\", max(a,b,c))"
   ]
  },
  {
   "cell_type": "code",
   "execution_count": null,
   "id": "de48ff28",
   "metadata": {},
   "outputs": [],
   "source": [
    "# 2s complement is 1s complement + 1"
   ]
  },
  {
   "cell_type": "code",
   "execution_count": null,
   "id": "5ed0e16b",
   "metadata": {},
   "outputs": [],
   "source": [
    "print(1972%4==0)"
   ]
  },
  {
   "cell_type": "code",
   "execution_count": null,
   "id": "1b857182",
   "metadata": {},
   "outputs": [],
   "source": [
    " a=296265669148985817878544751484844781185851518892948252819148189181641\n",
    " print(bin(a))\n",
    " print(~a)"
   ]
  },
  {
   "cell_type": "code",
   "execution_count": null,
   "id": "0e77523b",
   "metadata": {},
   "outputs": [],
   "source": [
    "a=12\n",
    "a>>3"
   ]
  },
  {
   "cell_type": "code",
   "execution_count": null,
   "id": "7fa89770",
   "metadata": {},
   "outputs": [],
   "source": [
    "a=10000000\n",
    "b=24\n",
    "a>>=b\n",
    "print(a)"
   ]
  },
  {
   "cell_type": "code",
   "execution_count": null,
   "id": "a8915128",
   "metadata": {},
   "outputs": [],
   "source": [
    "\"hello\" in (85,494,894,\"hello\")"
   ]
  },
  {
   "cell_type": "code",
   "execution_count": null,
   "id": "aa88915f",
   "metadata": {},
   "outputs": [],
   "source": [
    "a=int(input(\"enter 1st: \"))\n",
    "b=int(input(\"enter 2nd: \"))\n",
    "c=int(input(\"enter 3rd: \"))\n",
    "if(a>b):\n",
    "    if (a>c):\n",
    "        print(a, \"is the greatest\")\n",
    "    else:\n",
    "        print(c, \"is the greatest\")\n",
    "elif (b>a):\n",
    "    if (b>c):\n",
    "        print(b, \"is the greatest number\")\n",
    "    else:\n",
    "        print(c, \"is the greatest number\")\n",
    "else:\n",
    "    print(c, \"is the greatest number\")"
   ]
  },
  {
   "cell_type": "code",
   "execution_count": null,
   "id": "64f60449",
   "metadata": {
    "scrolled": false
   },
   "outputs": [],
   "source": [
    "for x in range(21,-1,-1):\n",
    "    print(x)"
   ]
  },
  {
   "cell_type": "code",
   "execution_count": null,
   "id": "1908869c",
   "metadata": {},
   "outputs": [],
   "source": [
    "n=int(input())\n",
    "c=0\n",
    "for x in range(0,(n+1)):\n",
    "    if x%2==0:\n",
    "        c=c+x\n",
    "print(c)"
   ]
  },
  {
   "cell_type": "code",
   "execution_count": null,
   "id": "4e3f104f",
   "metadata": {},
   "outputs": [],
   "source": [
    "n=int(input())\n",
    "c=0\n",
    "for x in range(0,n+1):\n",
    "    c=c+x\n",
    "print(c)"
   ]
  },
  {
   "cell_type": "code",
   "execution_count": null,
   "id": "cbb7c268",
   "metadata": {},
   "outputs": [],
   "source": [
    "n=int(input())\n",
    "c=0\n",
    "for x in range(0,n+1):\n",
    "    c=c+(x*x)\n",
    "print(c)"
   ]
  },
  {
   "cell_type": "code",
   "execution_count": null,
   "id": "bb92c5d7",
   "metadata": {},
   "outputs": [],
   "source": [
    "x=[1,2,3,4,5,6,7,8,9,10]\n",
    "for i in x:\n",
    "    i=[2,5,7]\n",
    "    continue\n",
    "print(x)"
   ]
  },
  {
   "cell_type": "code",
   "execution_count": null,
   "id": "7443ccc2",
   "metadata": {},
   "outputs": [],
   "source": [
    "a= int(input(\"input number, a:- \"))\n",
    "b= int(input(\"input number, b:- \"))\n",
    "sum=a+b\n",
    "print(\"the sum of a and b is\", sum)"
   ]
  },
  {
   "cell_type": "code",
   "execution_count": null,
   "id": "35fc8b09",
   "metadata": {},
   "outputs": [],
   "source": [
    "a=int(input(\"input first number- \"))\n",
    "b=int(input(\"input second number- \"))\n",
    "if a>b:\n",
    "    print(\"number\", a, \"is greater\")\n",
    "else:\n",
    "    print(\"number\", b, \"is greater\")"
   ]
  },
  {
   "cell_type": "code",
   "execution_count": null,
   "id": "1793943c",
   "metadata": {},
   "outputs": [],
   "source": [
    "a=int(input(\"input first number- \"))\n",
    "b=int(input(\"input second number- \"))\n",
    "c=int(input(\"input third number- \"))\n",
    "if a>b and a>c:\n",
    "    print(a, \"is greatest\")\n",
    "elif b>c:\n",
    "    print(b, \"is greatest\")\n",
    "else:\n",
    "    print(c, \"is greatest\")\n",
    "    "
   ]
  },
  {
   "cell_type": "code",
   "execution_count": null,
   "id": "7bcc151e",
   "metadata": {},
   "outputs": [],
   "source": [
    "a=int(input(\"input first number- \"))\n",
    "b=int(input(\"input second number- \"))\n",
    "c=int(input(\"input third number- \"))\n",
    "if a>b:\n",
    "    if a>c:\n",
    "        print(a, \"is the greatest number\")\n",
    "    else:\n",
    "        print(c, \"is the greatest number\") \n",
    "elif b>c:\n",
    "    print(b, \"is the greatest number\")\n",
    "else:\n",
    "    print(c, \"is the greatest number\")"
   ]
  },
  {
   "cell_type": "code",
   "execution_count": null,
   "id": "de60930e",
   "metadata": {},
   "outputs": [],
   "source": [
    "a=int(input(\"input first number- \"))\n",
    "b=int(input(\"input second number- \"))\n",
    "c=int(input(\"input third number- \"))\n",
    "if b<a>c:\n",
    "    x=a\n",
    "elif a<b>c:\n",
    "    x=b\n",
    "else:\n",
    "    x=c\n",
    "print(x, \"is the greatest\") "
   ]
  },
  {
   "cell_type": "code",
   "execution_count": null,
   "id": "70309ad9",
   "metadata": {},
   "outputs": [],
   "source": [
    "n=int(input())\n",
    "sum=0\n",
    "for i in range(n+1):\n",
    "    sum=sum+i\n",
    "print(sum)\n",
    "#sum of first some natural numbers"
   ]
  },
  {
   "cell_type": "code",
   "execution_count": null,
   "id": "2f21c181",
   "metadata": {},
   "outputs": [],
   "source": [
    "n=int(input())\n",
    "sum=0\n",
    "for i in range(n+1):\n",
    "    if i%2==0:\n",
    "        sum=sum+i\n",
    "print(sum)\n",
    "#sum of first some even natural numbers"
   ]
  },
  {
   "cell_type": "code",
   "execution_count": null,
   "id": "6bb9f4f3",
   "metadata": {},
   "outputs": [],
   "source": [
    "n=int(input())\n",
    "sum=0\n",
    "for i in range(n+1):\n",
    "    sum=sum+i\n",
    "    avg=(sum/n)\n",
    "print(avg)"
   ]
  },
  {
   "cell_type": "code",
   "execution_count": null,
   "id": "7308ce0e",
   "metadata": {},
   "outputs": [],
   "source": [
    "n=int(input())\n",
    "sum=0\n",
    "for i in range(n+1):\n",
    "    if i%2!=0:\n",
    "        sum=sum+i\n",
    "print(sum)\n",
    "#sum of odd numbers "
   ]
  },
  {
   "cell_type": "code",
   "execution_count": null,
   "id": "acfddfc3",
   "metadata": {},
   "outputs": [],
   "source": [
    "n=int(input())\n",
    "sum=0\n",
    "for i in range(n+1):\n",
    "    if i%2!=0:\n",
    "        sum=sum+i\n",
    "        avg=sum/n\n",
    "print(sum)\n",
    "print(avg)"
   ]
  },
  {
   "cell_type": "code",
   "execution_count": null,
   "id": "1e698b06",
   "metadata": {},
   "outputs": [],
   "source": [
    "n=int(input())\n",
    "sum=0\n",
    "for i in range(n+1):\n",
    "    if i%2==0:\n",
    "        sum=sum+i\n",
    "        avg=sum/n\n",
    "print(sum)\n",
    "print(avg)"
   ]
  },
  {
   "cell_type": "code",
   "execution_count": null,
   "id": "82130077",
   "metadata": {},
   "outputs": [],
   "source": [
    "n=int(input())\n",
    "sum=0\n",
    "i=0\n",
    "while (i<=n):\n",
    "    if i%2==0:\n",
    "        sum=sum+i\n",
    "    i=i+1       \n",
    "print(sum)"
   ]
  },
  {
   "cell_type": "code",
   "execution_count": null,
   "id": "806e2c18",
   "metadata": {},
   "outputs": [],
   "source": [
    "n=int(input())\n",
    "sumeven=0\n",
    "sumodd=0\n",
    "for i in range(n+1):\n",
    "    if i%2==0:\n",
    "        sumeven=sumeven+i\n",
    "    else:\n",
    "        sumodd=sumodd+i\n",
    "print(sumeven)\n",
    "print(sumodd)"
   ]
  },
  {
   "cell_type": "code",
   "execution_count": null,
   "id": "13736128",
   "metadata": {},
   "outputs": [],
   "source": [
    "while True:\n",
    "    n=int(input())\n",
    "    prime=True\n",
    "    for i in range(2,n):\n",
    "        if n%i==0:\n",
    "            prime=False\n",
    "            break\n",
    "    if prime:\n",
    "        print(n, \"is prime\")\n",
    "    else:\n",
    "        print(n, \"is not prime\")"
   ]
  },
  {
   "cell_type": "code",
   "execution_count": null,
   "id": "789499d2",
   "metadata": {},
   "outputs": [],
   "source": [
    "n=int(input())\n",
    "sum=0\n",
    "sum10=sum+(n/10)\n",
    "sum100=sum+(n/100)\n",
    "if n/100==int:\n",
    "    sum=sum+sum100\n",
    "if n/10==int:\n",
    "    sum=sum+sum10\n",
    "print(sum)"
   ]
  },
  {
   "cell_type": "code",
   "execution_count": null,
   "id": "53e79892",
   "metadata": {},
   "outputs": [],
   "source": [
    "a1=\"hello\"\n",
    "a2=\"hey\"\n",
    "print(a1,a2)"
   ]
  },
  {
   "cell_type": "code",
   "execution_count": null,
   "id": "34b1220d",
   "metadata": {},
   "outputs": [],
   "source": [
    "a=10\n",
    "b=a+2-2\n",
    "print(id(a))\n",
    "print(id(b))"
   ]
  },
  {
   "cell_type": "code",
   "execution_count": null,
   "id": "b9ed936c",
   "metadata": {},
   "outputs": [],
   "source": [
    "while True:\n",
    "    n=int(input())\n",
    "    while n>11:\n",
    "        print(1)"
   ]
  },
  {
   "cell_type": "code",
   "execution_count": null,
   "id": "16e6446b",
   "metadata": {},
   "outputs": [],
   "source": [
    "n=int(input())\n",
    "for i in range(1,n+1):\n",
    "    for j in range(1,i+1):\n",
    "        print(\"*\",end=\"\")\n",
    "    print()"
   ]
  },
  {
   "cell_type": "code",
   "execution_count": null,
   "id": "855c462b",
   "metadata": {},
   "outputs": [],
   "source": [
    "n=int(input())\n",
    "for i in range(1,n+1):\n",
    "    for j in range(1,i+1):\n",
    "        print(j,end=\"\")\n",
    "    print()"
   ]
  },
  {
   "cell_type": "code",
   "execution_count": null,
   "id": "60a932ea",
   "metadata": {},
   "outputs": [],
   "source": [
    "n=int(input())\n",
    "for i in range(1,n+1):\n",
    "    for j in range(1,i+1):\n",
    "        print(i,end=\"\")\n",
    "    print()"
   ]
  },
  {
   "cell_type": "code",
   "execution_count": null,
   "id": "2042527d",
   "metadata": {},
   "outputs": [],
   "source": [
    "n=int(input())\n",
    "for i in range(n,0,-1):\n",
    "    for j in range(1,i+1):\n",
    "        print(j, end=\"\")\n",
    "    print()"
   ]
  },
  {
   "cell_type": "code",
   "execution_count": null,
   "id": "c67e5e1e",
   "metadata": {},
   "outputs": [],
   "source": [
    "n=int(input())\n",
    "for i in range(1,n+1):\n",
    "    for j in range(1,i+1):\n",
    "        print(\"*\",end=\" \")\n",
    "    print()"
   ]
  },
  {
   "cell_type": "code",
   "execution_count": null,
   "id": "a1107131",
   "metadata": {},
   "outputs": [],
   "source": [
    "n=int(input())\n",
    "for i in range(0,n):\n",
    "    for j in range(i+1,0,-1):\n",
    "        print(j,end=\"\")\n",
    "    print()"
   ]
  },
  {
   "cell_type": "code",
   "execution_count": null,
   "id": "c4840265",
   "metadata": {},
   "outputs": [],
   "source": [
    "n=int(input())\n",
    "val=65\n",
    "for i in range(1,n+1):\n",
    "    for j in range(1,i+1):\n",
    "        print(chr(val), end=\"\")\n",
    "        val+=1\n",
    "    print()"
   ]
  },
  {
   "cell_type": "code",
   "execution_count": null,
   "id": "b1991889",
   "metadata": {},
   "outputs": [],
   "source": [
    "n=int(input())\n",
    "for i in range(1,n+1):\n",
    "    for j in range(n-i):\n",
    "        print(end=\" \")\n",
    "    for k in range(1,i+1):\n",
    "        print(j,end=\"\")\n",
    "    print()"
   ]
  },
  {
   "cell_type": "code",
   "execution_count": null,
   "id": "ceb910c8",
   "metadata": {},
   "outputs": [],
   "source": [
    "## Read input as specified in the question\n",
    "## Print the required output in given format\n",
    "n=int(input())\n",
    "for i in range(1,n+1):\n",
    "    for j in range(n-i):\n",
    "        print(end=\" \")\n",
    "    for k in range(1,i+1):\n",
    "        print(k,end=\"\")\n",
    "    print()"
   ]
  },
  {
   "cell_type": "code",
   "execution_count": null,
   "id": "8cc1910d",
   "metadata": {},
   "outputs": [],
   "source": [
    "i=1\n",
    "while i<=10:\n",
    "    print(\"hey\")\n",
    "    i+=1"
   ]
  },
  {
   "cell_type": "code",
   "execution_count": null,
   "id": "a26ca653",
   "metadata": {},
   "outputs": [],
   "source": [
    "n=int(input())\n",
    "count=1\n",
    "while count<=n:\n",
    "    print(1)\n",
    "    count=count+1"
   ]
  },
  {
   "cell_type": "code",
   "execution_count": null,
   "id": "66aa05a6",
   "metadata": {},
   "outputs": [],
   "source": [
    "n=int(input())\n",
    "count=1\n",
    "while count<=n:\n",
    "    print(count)\n",
    "    count+=1"
   ]
  },
  {
   "cell_type": "code",
   "execution_count": null,
   "id": "45ea887e",
   "metadata": {},
   "outputs": [],
   "source": [
    "# Read input as sepcified in the question\n",
    "# Print output as specified in the question\n",
    "n=int(input())\n",
    "count=0\n",
    "sum=count\n",
    "while count<=n:\n",
    "    sum=sum+count\n",
    "    count+=1\n",
    "print(sum)"
   ]
  },
  {
   "cell_type": "code",
   "execution_count": null,
   "id": "62f812f2",
   "metadata": {},
   "outputs": [],
   "source": [
    "'''\n",
    "\tPre-requisite to solve this problem:\n",
    "\tIn this question, we have to find sum of all even numbers till n. To take sum of all the even o zero. Let us name this variable as sum. \n",
    "\tFollowing code is used to add 2 to sum variable and update it to the same sum variable:\n",
    "\tsum = sum + 2 We will have a great time together for the next day or so Iore or the store and I have a new phone call from your \n",
    "\tI'm going back in a few more times and we can see what happens when we go in there for the first one and then you got to be a good 😊 😌 👍 \n",
    "\tHint to solve this problem: We will have to loop on even numbers only and add the even numbers to the same sum variable, described above.\n",
    "'''\n",
    "## Read input as specified in the question.\n",
    "## Print output as specified in the question.\n",
    "n=int(input())\n",
    "sum=0\n",
    "for i in range(0,n+1):\n",
    "\tif i%2==0:\n",
    "\t\tsum=sum+i\n",
    "print(sum)"
   ]
  },
  {
   "cell_type": "code",
   "execution_count": null,
   "id": "121a06dc",
   "metadata": {},
   "outputs": [],
   "source": [
    "n=int(input())\n",
    "for i in range(1,n+1):\n",
    "    if i%n==0:\n",
    "        print(n, \"is prime \")\n",
    "    else:\n",
    "        print(n, \"is not prime\")"
   ]
  },
  {
   "cell_type": "markdown",
   "id": "1c6c1a16",
   "metadata": {},
   "source": [
    "# prime number program"
   ]
  },
  {
   "cell_type": "code",
   "execution_count": null,
   "id": "890562f6",
   "metadata": {},
   "outputs": [],
   "source": [
    "while True:\n",
    "    n=int(input())\n",
    "    prime=True\n",
    "    for i in range(2,n):\n",
    "        if n%i==0:\n",
    "            prime=False\n",
    "            break\n",
    "    if prime:\n",
    "            print(n, \"is prime\")\n",
    "    else:\n",
    "            print(n, \"is not prime\")\n",
    "#prime number program"
   ]
  },
  {
   "cell_type": "markdown",
   "id": "6c3f70d5",
   "metadata": {},
   "source": [
    "# prime number "
   ]
  },
  {
   "cell_type": "code",
   "execution_count": null,
   "id": "9806d33b",
   "metadata": {},
   "outputs": [
    {
     "name": "stdout",
     "output_type": "stream",
     "text": [
      "5\n",
      "5 is prime\n"
     ]
    }
   ],
   "source": [
    "while True:\n",
    "    n=int(input())\n",
    "    prime=True\n",
    "    for i in range(2,n):\n",
    "        if n%i==0:\n",
    "            prime=False \n",
    "    if prime:\n",
    "        print(n,\"is prime\")\n",
    "    else:\n",
    "        print(n, \"is not prime\")"
   ]
  },
  {
   "cell_type": "code",
   "execution_count": null,
   "id": "08d74492",
   "metadata": {},
   "outputs": [],
   "source": [
    "while True:\n",
    "    n=int(input())\n",
    "    prime=True\n",
    "    for i in range(2,n):\n",
    "        if n%i==0:\n",
    "            prime= False \n",
    "            print(n, \"is not prime\")\n",
    "            break\n",
    "    if prime:\n",
    "        print(n, \"is prime\")"
   ]
  },
  {
   "cell_type": "markdown",
   "id": "65b97acc",
   "metadata": {},
   "source": [
    "# Given three values - Start Fahrenheit Value (S), End Fahrenheit value (E) and Step Size (W), you need to convert all Fahrenheit values from Start to End at the gap of W, into their corresponding Celsius values and print the table.\n",
    "Input Format :\n",
    "3 integers - S, E and W respectively \n",
    "Output Format :\n",
    "Fahrenheit to Celsius conversion table. One line for every Fahrenheit and corresponding Celsius value in integer form. The Fahrenheit value and its corresponding Celsius value should be separate by single space.\n",
    "Constraints :\n",
    "0 <= S <= 90\n",
    "S <= E <=  900\n",
    "0 <= W <= 80 \n",
    "Sample Input 1:\n",
    "0 \n",
    "100 \n",
    "20\n",
    "Sample Output 1:\n",
    "0   -17\n",
    "20  -6\n",
    "40  4\n",
    "60  15\n",
    "80  26\n",
    "100 37\n",
    "Sample Input 2:\n",
    "20\n",
    "119\n",
    "13\n",
    "Sample Output 2:\n",
    "20  -6\n",
    "33  0 \n",
    "46  7\n",
    "59  15\n",
    "72  22\n",
    "85  29\n",
    "98  36\n",
    "111 43\n",
    "Explanation For Input 2:\n",
    "Start calculating the Celsius values for each Fahrenheit Value which starts from 20. So starting from 20, we need to compute its corresponding Celsius value which computes to -6. We print this information as <Fahrenheit Value> <a single space> <Celsius Value> on each line. Now add 13 to Fahrenheit Value at each step until you reach 119 in this case. You may or may not exactly land on the end value depending on the steps you are taking."
   ]
  },
  {
   "cell_type": "code",
   "execution_count": null,
   "id": "41bc4e96",
   "metadata": {},
   "outputs": [],
   "source": [
    "# Read input as sepcified in the question\n",
    "# Print output as specified in the question\n",
    "s=int(input())\n",
    "e=int(input())\n",
    "w=int(input())\n",
    "while s<=e:\n",
    "    c=(s-32)*(5/9)\n",
    "    print(s, int(c))\n",
    "    s=s+w"
   ]
  },
  {
   "cell_type": "markdown",
   "id": "9d724a1b",
   "metadata": {},
   "source": [
    "#"
   ]
  },
  {
   "cell_type": "code",
   "execution_count": null,
   "id": "02c0eb9b",
   "metadata": {},
   "outputs": [],
   "source": [
    "list1=[[\"me\", 10], [\"you\", 20], \"hey\", \"helllo\", \"yoyoyo\", \"heysup\"]"
   ]
  },
  {
   "cell_type": "code",
   "execution_count": null,
   "id": "ae989821",
   "metadata": {},
   "outputs": [],
   "source": [
    "print(list1[0])"
   ]
  },
  {
   "cell_type": "code",
   "execution_count": null,
   "id": "cf6b866f",
   "metadata": {},
   "outputs": [],
   "source": [
    " print(list1[3:6 ])"
   ]
  },
  {
   "cell_type": "code",
   "execution_count": null,
   "id": "c06204e1",
   "metadata": {},
   "outputs": [],
   "source": [
    "list=[50,40,30,20,\"10\",[\"0\",\"1\"]]\n",
    "list[-1][1]"
   ]
  },
  {
   "cell_type": "code",
   "execution_count": null,
   "id": "8c451dc7",
   "metadata": {},
   "outputs": [],
   "source": [
    "list[1:3]"
   ]
  },
  {
   "cell_type": "code",
   "execution_count": null,
   "id": "27bd61a8",
   "metadata": {},
   "outputs": [],
   "source": [
    "while True:   \n",
    "    n=int(input())\n",
    "    prime=True\n",
    "    for i in range(2,n):\n",
    "        if n%i==0:\n",
    "            prime=False\n",
    "            break\n",
    "    if prime:\n",
    "        print(n, \"is prime\")\n",
    "    else:\n",
    "        print(n,\"is not prime\")"
   ]
  },
  {
   "cell_type": "code",
   "execution_count": null,
   "id": "60e7dbd5",
   "metadata": {},
   "outputs": [],
   "source": [
    "n=int(input())\n",
    "for i in range(n,0,-1):\n",
    "    for j in range(i,1,-1):\n",
    "        print(\"*\",end=\"\")\n",
    "    print()"
   ]
  },
  {
   "cell_type": "markdown",
   "id": "9d43fd74",
   "metadata": {},
   "source": [
    "# String Slicing"
   ]
  },
  {
   "cell_type": "code",
   "execution_count": null,
   "id": "643bf629",
   "metadata": {},
   "outputs": [],
   "source": [
    "a=\"welcome to you all\"\n",
    "print(a[3])\n",
    "print(a[0:5])\n",
    "print(a.replace(\"wel\",\"hel\"))\n",
    "print(a.upper())\n",
    "print(a.lower())\n",
    "print(a.title())\n",
    "print(a.capitalize())"
   ]
  },
  {
   "cell_type": "code",
   "execution_count": null,
   "id": "b480b093",
   "metadata": {},
   "outputs": [],
   "source": [
    "a.replace('w','a')"
   ]
  },
  {
   "cell_type": "code",
   "execution_count": null,
   "id": "5edacad3",
   "metadata": {
    "scrolled": true
   },
   "outputs": [],
   "source": [
    "a=\"sed\"\n",
    "a.replace(\"d\",\"ddddd\")"
   ]
  },
  {
   "cell_type": "code",
   "execution_count": null,
   "id": "c2337a53",
   "metadata": {},
   "outputs": [],
   "source": [
    "a.title()"
   ]
  },
  {
   "cell_type": "code",
   "execution_count": null,
   "id": "ceeb17c5",
   "metadata": {},
   "outputs": [],
   "source": [
    "a=\"         welcome to you all, hey. okay           \"\n",
    "a.capitalize()"
   ]
  },
  {
   "cell_type": "code",
   "execution_count": null,
   "id": "a0195fe6",
   "metadata": {
    "scrolled": false
   },
   "outputs": [],
   "source": [
    "a=\"welcome everyone\"\n",
    "for i in range(-1,0,-1):\n",
    "    x=a[i]\n",
    "print(x)"
   ]
  },
  {
   "cell_type": "code",
   "execution_count": null,
   "id": "b7ba0013",
   "metadata": {},
   "outputs": [],
   "source": [
    "a=\"        welcome everybody             \""
   ]
  },
  {
   "cell_type": "code",
   "execution_count": null,
   "id": "c5457380",
   "metadata": {},
   "outputs": [],
   "source": [
    "a.strip()"
   ]
  },
  {
   "cell_type": "code",
   "execution_count": null,
   "id": "5ef02084",
   "metadata": {},
   "outputs": [],
   "source": [
    "a.lstrip()"
   ]
  },
  {
   "cell_type": "code",
   "execution_count": null,
   "id": "3e30dfc9",
   "metadata": {},
   "outputs": [],
   "source": [
    "a.rstrip()"
   ]
  },
  {
   "cell_type": "code",
   "execution_count": null,
   "id": "40ee4518",
   "metadata": {},
   "outputs": [],
   "source": [
    "a"
   ]
  },
  {
   "cell_type": "code",
   "execution_count": null,
   "id": "466f1513",
   "metadata": {},
   "outputs": [],
   "source": [
    "a.count(\"w\")"
   ]
  },
  {
   "cell_type": "code",
   "execution_count": null,
   "id": "d93471ec",
   "metadata": {},
   "outputs": [],
   "source": [
    "a.isupper()"
   ]
  },
  {
   "cell_type": "code",
   "execution_count": null,
   "id": "9e34cd28",
   "metadata": {},
   "outputs": [],
   "source": [
    "a.islower()"
   ]
  },
  {
   "cell_type": "code",
   "execution_count": null,
   "id": "9e8f802e",
   "metadata": {},
   "outputs": [],
   "source": [
    "a.swapcase()"
   ]
  },
  {
   "cell_type": "code",
   "execution_count": null,
   "id": "311d73bc",
   "metadata": {},
   "outputs": [],
   "source": [
    "subs=\"o\"\n",
    "a.count(subs)"
   ]
  },
  {
   "cell_type": "code",
   "execution_count": null,
   "id": "4b53551b",
   "metadata": {},
   "outputs": [],
   "source": [
    "a.count('o')"
   ]
  },
  {
   "cell_type": "code",
   "execution_count": null,
   "id": "b069cf6f",
   "metadata": {},
   "outputs": [],
   "source": [
    "subs=\"to\"\n",
    "a.count(subs)"
   ]
  },
  {
   "cell_type": "code",
   "execution_count": null,
   "id": "bd3ec091",
   "metadata": {},
   "outputs": [],
   "source": [
    "str=input().split()\n",
    "n,m=[int(str[0]),int(str[1])]\n",
    "newlist=[[int(i) for i in input().split()]for i in range(n)]"
   ]
  },
  {
   "cell_type": "code",
   "execution_count": null,
   "id": "390c5489",
   "metadata": {},
   "outputs": [],
   "source": [
    "print(newlist)"
   ]
  },
  {
   "cell_type": "code",
   "execution_count": null,
   "id": "334d8e4a",
   "metadata": {},
   "outputs": [],
   "source": [
    "text=input()\n",
    "a=text[-1]\n",
    "b=text[0]\n",
    "c=text[1:-1]\n",
    "a+c+b"
   ]
  },
  {
   "cell_type": "code",
   "execution_count": null,
   "id": "30983cb0",
   "metadata": {},
   "outputs": [],
   "source": [
    "text=input()\n",
    "a=text[0]\n",
    "b=text[1:-1]\n",
    "c=text[-1]\n",
    "b+c+a"
   ]
  },
  {
   "cell_type": "code",
   "execution_count": null,
   "id": "fc877500",
   "metadata": {},
   "outputs": [],
   "source": [
    "text=input()\n",
    "a=text[-1:0:-1]\n",
    "b=text[0]\n",
    "a+b"
   ]
  },
  {
   "cell_type": "code",
   "execution_count": null,
   "id": "c6e98e92",
   "metadata": {},
   "outputs": [],
   "source": [
    "text=input()\n",
    "pali=text[-1:0:-1]\n",
    "palindrome=text[0]\n",
    "c=pali+palindrome\n",
    "if text==c:\n",
    "    print(\"yes\")\n",
    "else:\n",
    "    print(\"no\")"
   ]
  },
  {
   "cell_type": "code",
   "execution_count": null,
   "id": "190f3892",
   "metadata": {},
   "outputs": [],
   "source": [
    "c=input()\n",
    "c[::-1]"
   ]
  },
  {
   "cell_type": "code",
   "execution_count": null,
   "id": "06d9a2d2",
   "metadata": {},
   "outputs": [],
   "source": [
    "import turtle\n",
    "\n",
    "s = turtle.Screen().bgcolor(\"black\")\n",
    "t = turtle.Turtle()\n",
    "t.speed(3)\n",
    "t.width(12)\n",
    "\n",
    "def curve():\n",
    "    for i in range (200):\n",
    "        t.right(1)\n",
    "        t.forward(1)\n",
    "\n",
    "def heart():\n",
    "    t.color(\"red\",\"red\")\n",
    "    t.begin_fill()\n",
    "    t.left(140)\n",
    "    t.forward(113)\n",
    "    curve()\n",
    "    t.left(120)\n",
    "    curve()\n",
    "    t.forward(112)\n",
    "    t.end_fill()\n",
    "\n",
    "heart()\n",
    "t.pencolor(\"black\")\n",
    "t.penup()\n",
    "t.goto(0,170)\n",
    "t.pendown()\n",
    "\n",
    "for broken in range (3):\n",
    "    t.left(75)\n",
    "    t.forward(40)\n",
    "    t.right(65)\n",
    "    t.forward(45)\n",
    "\n",
    "turtle.done()"
   ]
  },
  {
   "cell_type": "code",
   "execution_count": null,
   "id": "821e1efe",
   "metadata": {},
   "outputs": [],
   "source": [
    "list=[1,2,3,1,1]\n",
    "tuple=(1,2,'3','late students')\n",
    "#tuple5=tuple(1,2,3,4,5)\n",
    "print(tuple[0])\n",
    "#tuple[0]=6\n",
    "tuple2=(2,)\n",
    "print(tuple2)\n",
    "#add and remove or any functions like this will not work in the tuple function\n",
    "tuple=1,2,3,4,1,2,3,4,1,5\n",
    "tple=5,6,7,8,1,1,1\n",
    "tupl=tuple+tple\n",
    "print(tupl)\n",
    "print(tupl.count(1))\n",
    "print(tuple.index(3))\n",
    "print(len(tupl)\n"
   ]
  },
  {
   "cell_type": "code",
   "execution_count": null,
   "id": "08283ede",
   "metadata": {},
   "outputs": [],
   "source": [
    "tuple6=((1,2,3),(5,6))\n",
    "tuple7=(4,5,6)\n",
    "tuple=tuple6+tuple7\n",
    "print(tuple7*2)\n",
    "print(len(tuple))\n",
    "print(tuple*2)\n",
    "del tuple7\n",
    "#print(tuple7)\n",
    "tuple=1,2,4,3,5,5\n",
    "print(4 not in tuple)"
   ]
  },
  {
   "cell_type": "code",
   "execution_count": null,
   "id": "4c96f8bf",
   "metadata": {},
   "outputs": [],
   "source": [
    "'''l=[1,2,3,4]\n",
    "a=tuple(l)\n",
    "print(a)'''\n",
    "tuple=(1,4,6,2,7,5)\n",
    "a=list(tuple)\n",
    "x=sorted(tuple)\n",
    "print(x)\n",
    "#y=tuple(x)\n",
    "#print(y)\n",
    "'''l=[1,2,3,4]\n",
    "a=tuple(l)\n",
    "print(a)'''\n",
    "tuple=(1,4,6,2,7,5)\n",
    "a=list(tuple)\n",
    "x=sorted(tuple)\n",
    "print(x)\n",
    "#y=tuple(x)\n",
    "#print(y)\n",
    "tuple1=('1','2','3')\n",
    "a,b,c=tuple1\n",
    "print(a+b+c)\n",
    "print(''.join(tuple1))"
   ]
  },
  {
   "cell_type": "code",
   "execution_count": null,
   "id": "feaff7b5",
   "metadata": {},
   "outputs": [],
   "source": [
    "st='1 2 3 4 5'\n",
    "a=list(st)\n",
    "#print(a)\n",
    "b=[]\n",
    "for i in a:\n",
    "    if i.isdigit():\n",
    "        b.append(i)\n",
    "#print(b)\n",
    "c=[]\n",
    "for i in b:\n",
    "    x=int(i)\n",
    "    c.append(x)\n",
    "#print(c)\n",
    "print(tuple(c))"
   ]
  },
  {
   "cell_type": "code",
   "execution_count": null,
   "id": "b4bc2565",
   "metadata": {},
   "outputs": [],
   "source": [
    "t='1 2 3 4 5'\n",
    "x=t.split()\n",
    "y=[int(i) for i in x]\n",
    "print(tuple(y))"
   ]
  },
  {
   "cell_type": "code",
   "execution_count": null,
   "id": "389b89ad",
   "metadata": {},
   "outputs": [],
   "source": [
    "a='hey hello how are you'\n",
    "b=a.split()\n",
    "print(b)\n",
    "k=[]\n",
    "for i in range(0,len(b)):\n",
    "    f=b[i]\n",
    "    c=f[-1:0:-1]\n",
    "    d=f[0]\n",
    "    e=c+d\n",
    "    k.append(e)\n",
    "print(\" \".join(k))"
   ]
  },
  {
   "cell_type": "code",
   "execution_count": null,
   "id": "4c0f83c0",
   "metadata": {},
   "outputs": [],
   "source": [
    "a=[() ,() ,('',),(1,2),(1,2,3),]\n",
    "empty=()\n",
    "li=[]\n",
    "for i in a:\n",
    "    if i==empty:\n",
    "        pass\n",
    "    else:\n",
    "        li.append(i)\n",
    "print(li)"
   ]
  },
  {
   "cell_type": "code",
   "execution_count": null,
   "id": "47a3f421",
   "metadata": {},
   "outputs": [],
   "source": [
    "col=(('red','white','green'),('blue','orange'),('violet','black'))\n",
    "a=input()\n",
    "for i in col:\n",
    "    if a in i:\n",
    "        print('element present')\n",
    "        break\n",
    "else:\n",
    "    print('not')"
   ]
  },
  {
   "cell_type": "code",
   "execution_count": null,
   "id": "2db37294",
   "metadata": {},
   "outputs": [],
   "source": [
    "a=input()\n",
    "flag=0\n",
    "alpha='abcdefghijklmnopqrstuvwxyz'\n",
    "for i in alpha:\n",
    "    if i in a:\n",
    "        flag=1\n",
    "    else:\n",
    "        flag=0\n",
    "        break\n",
    "if flag:\n",
    "    print('yes')\n",
    "else:\n",
    "    print('no')"
   ]
  },
  {
   "cell_type": "code",
   "execution_count": null,
   "id": "463e4edd",
   "metadata": {},
   "outputs": [],
   "source": [
    "a=input()\n",
    "alpha='abcdefghijklmnopqrstuvwxyz'\n",
    "for i in alpha:\n",
    "    if i not in a:\n",
    "        print('no')\n",
    "        break\n",
    "else:\n",
    "    print('yes')"
   ]
  },
  {
   "cell_type": "code",
   "execution_count": null,
   "id": "f2936857",
   "metadata": {},
   "outputs": [],
   "source": [
    "a = 1,2\n",
    "b = (4,5)\n",
    "d = a+b\n",
    "print(d[2])\n"
   ]
  },
  {
   "cell_type": "code",
   "execution_count": null,
   "id": "eac62efa",
   "metadata": {},
   "outputs": [],
   "source": [
    "a = ('ab','abc','def')\n",
    "print(min(a))"
   ]
  },
  {
   "cell_type": "code",
   "execution_count": null,
   "id": "73f64da8",
   "metadata": {},
   "outputs": [],
   "source": [
    "def multiply(a,b,c,*more):\n",
    "    value = a*b*c\n",
    "    for i in more:\n",
    "        value = value * i\n",
    "    return value\n",
    "V = multiply(1,2,3,4,5)\n",
    "print(V)\n"
   ]
  },
  {
   "cell_type": "code",
   "execution_count": null,
   "id": "d92fdece",
   "metadata": {},
   "outputs": [],
   "source": [
    "def sum_multiply(a,b,*more):\n",
    "    sum_value = a+b\n",
    "    m_value = a*b\n",
    "    for i in more:\n",
    "        sum_value += i\n",
    "        m_value*=i\n",
    "    return sum_value,m_value\n",
    "s_m = sum_multiply(2,3,4)\n",
    "print(s_m)\n"
   ]
  },
  {
   "cell_type": "code",
   "execution_count": null,
   "id": "665841e2",
   "metadata": {},
   "outputs": [],
   "source": [
    "d = {1:2, 'abc':5, 'd':7}\n",
    "print(d[0])"
   ]
  },
  {
   "cell_type": "code",
   "execution_count": null,
   "id": "de1f3c2c",
   "metadata": {},
   "outputs": [],
   "source": [
    "d = {1:2,'abc':5, 'def':7}\n",
    "print(d.get(0,5))"
   ]
  },
  {
   "cell_type": "code",
   "execution_count": null,
   "id": "7e1a829a",
   "metadata": {},
   "outputs": [],
   "source": [
    "print(d)"
   ]
  },
  {
   "cell_type": "code",
   "execution_count": null,
   "id": "138c45d0",
   "metadata": {},
   "outputs": [],
   "source": [
    "d = {1:2, 'abc':5, \"def\":7}\n",
    "if 2 in d:\n",
    "    print('Present')\n",
    "else:\n",
    "    print('Not Present')"
   ]
  },
  {
   "cell_type": "code",
   "execution_count": null,
   "id": "305e2f7c",
   "metadata": {},
   "outputs": [],
   "source": [
    "a = {1:2,'list':[1,2],3:5}\n",
    "b = {4:5,3:7}\n",
    "a.update(b)\n",
    "print(a[3])"
   ]
  },
  {
   "cell_type": "code",
   "execution_count": null,
   "id": "3aeda0d8",
   "metadata": {},
   "outputs": [],
   "source": [
    "s = {1,2,3,5,4,2,3,1}\n",
    "print(len(s),end= ' ')\n",
    "s.add(4)\n",
    "s.add(3)\n",
    "print(len(s))\n"
   ]
  },
  {
   "cell_type": "code",
   "execution_count": null,
   "id": "3cf3159e",
   "metadata": {},
   "outputs": [],
   "source": [
    "s = {}\n",
    "#s.add(4)\n",
    "#s.add(4)\n",
    "print(len(s))\n"
   ]
  },
  {
   "cell_type": "code",
   "execution_count": null,
   "id": "e72ce198",
   "metadata": {},
   "outputs": [],
   "source": [
    "q=int(input())\n",
    "n=int(input())\n",
    "k=n\n",
    "rev=0\n",
    "while n>0 :\n",
    "    rev=(rev*10)+n%10\n",
    "    n=n//10\n",
    "if k==rev:\n",
    "    print('Transaction may proceed')\n",
    "else:\n",
    "    print('Transaction declined')"
   ]
  },
  {
   "cell_type": "code",
   "execution_count": null,
   "id": "ba0ecd5b",
   "metadata": {},
   "outputs": [],
   "source": [
    "n = int(input('Enter the electricity units:'))\n",
    "amount=0\n",
    "if n<=100:\n",
    "    amount=0\n",
    "if n<=200:\n",
    "    amount=0+5*(n-100)\n",
    "if n>200:\n",
    "    amount=0+5*(100)+10*(n-200)\n",
    "print('amount to pay', amount)"
   ]
  },
  {
   "cell_type": "code",
   "execution_count": null,
   "id": "e6f1ca14",
   "metadata": {},
   "outputs": [],
   "source": [
    "gender=input()\n",
    "salary=int(input())\n",
    "salary_new=0\n",
    "if salary<=10000:\n",
    "        salary=salary+((2.5/100)*salary)\n",
    "if gender=='m':\n",
    "    salary_new=salary+((10/100)*salary)\n",
    "if gender=='f':\n",
    "    salary_new=salary_new+((15/100)*salary)\n",
    "print(salary_new)"
   ]
  },
  {
   "cell_type": "markdown",
   "id": "aa33363a",
   "metadata": {},
   "source": [
    "# Factorial"
   ]
  },
  {
   "cell_type": "code",
   "execution_count": null,
   "id": "89aa0161",
   "metadata": {},
   "outputs": [],
   "source": [
    "def factorial(k):\n",
    "    lis=[]\n",
    "    for i in k:\n",
    "        fact=1\n",
    "        for j in range(1,i+1):\n",
    "            fact=fact*j\n",
    "        lis.append(fact)\n",
    "    return lis\n",
    "n=int(input('Enter the size of List'))\n",
    "li=[]\n",
    "for i in range(n):\n",
    "    a=int(input('Enter Element:'))\n",
    "    li.append(a)\n",
    "list2=factorial(li)\n",
    "print(list2)"
   ]
  },
  {
   "cell_type": "markdown",
   "id": "290900bc",
   "metadata": {},
   "source": [
    "# Sets"
   ]
  },
  {
   "cell_type": "code",
   "execution_count": null,
   "id": "852df92c",
   "metadata": {},
   "outputs": [],
   "source": [
    "''' \n",
    "set is unordered,\n",
    "set is unchangable,\n",
    "sets are unrepeatable,\n",
    "a.union()\n",
    "a.intersection()\n",
    "a.difference()\n",
    "a.issubset()\n",
    "a.issuperset()\n",
    "a.isdisjoint()\n",
    "set()\n",
    "a.add()\n",
    "a.remove()\n",
    "a.update([ , , ])\n",
    "a.pop()\n",
    "a.discard()\n",
    "len()\n",
    "a & b\n",
    "a | b\n",
    "'''\n",
    "'go'"
   ]
  },
  {
   "cell_type": "code",
   "execution_count": null,
   "id": "a1a4d775",
   "metadata": {},
   "outputs": [],
   "source": [
    "a={1,2,3,4,5}\n",
    "b={4,5,6,7,8}\n",
    "print(a.union(b))\n",
    "print(a.intersection(b))\n",
    "print(len(a))\n",
    "print(a.difference(b))\n",
    "print(a.issubset(b))\n",
    "print(a.issuperset(b))\n",
    "print(a.isdisjoint(b))\n",
    "k=[1,2,3,4,5]\n",
    "print(set(k))\n",
    "a.add(9)\n",
    "print(a)\n",
    "a.remove(9)\n",
    "print(a)\n",
    "a.update([9,10])\n",
    "print(a)\n",
    "print(a.pop())\n",
    "print(a)\n",
    "a.discard(500)\n",
    "print(a)\n",
    "a={1,2,3,4,5}\n",
    "b={4,5,6,7,8}\n",
    "print(a & b)\n",
    "print(a | b)\n",
    "print(max(a))\n",
    "print(min(a))\n",
    "#print(a.clear())\n",
    "k=[1,2,3,4,5,6]\n",
    "print(frozenset(k))\n",
    "c=a\n",
    "print(c)\n",
    "q=a.copy()\n",
    "print(q)"
   ]
  },
  {
   "cell_type": "code",
   "execution_count": null,
   "id": "54fbb27d",
   "metadata": {},
   "outputs": [],
   "source": [
    "#intersection\n",
    "a={1,2,3,4,5,6}\n",
    "b={5,6,7,8,9,1}\n",
    "c={}\n",
    "c=set(c)\n",
    "for i in a:\n",
    "    if i in b:\n",
    "        c.add(i)\n",
    "print(c)"
   ]
  },
  {
   "cell_type": "code",
   "execution_count": null,
   "id": "51190798",
   "metadata": {},
   "outputs": [],
   "source": [
    "#union\n",
    "a={1,2,3,4,5,6}\n",
    "b={3,4,5,6,7,8,9}\n",
    "c={}\n",
    "c=set(c)\n",
    "for i in a:\n",
    "    b.add(i)\n",
    "print(b)"
   ]
  },
  {
   "cell_type": "code",
   "execution_count": null,
   "id": "48679730",
   "metadata": {},
   "outputs": [],
   "source": [
    "#symmmetric_difference\n",
    "a={1,2,3,4,5,6}\n",
    "b={4,5,6,7,8,9}\n",
    "c=a.union(b)\n",
    "d=a.intersection(b)\n",
    "e=c-d\n",
    "print(e)"
   ]
  },
  {
   "cell_type": "code",
   "execution_count": null,
   "id": "a8757070",
   "metadata": {},
   "outputs": [],
   "source": [
    "a={1,2,3,4,5,6}\n",
    "c=a.symmetric_difference(b)\n",
    "print(c)"
   ]
  },
  {
   "cell_type": "code",
   "execution_count": null,
   "id": "ed6218d5",
   "metadata": {},
   "outputs": [],
   "source": [
    "#difference\n",
    "a={1,2,3,4,5,6}\n",
    "b={4,5,6,7,8,9}\n",
    "c={}\n",
    "c=set(c)\n",
    "for i in a:\n",
    "    if i not in b:\n",
    "        c.add(i)\n",
    "print(c)"
   ]
  },
  {
   "cell_type": "code",
   "execution_count": null,
   "id": "281a7594",
   "metadata": {},
   "outputs": [],
   "source": [
    "#superset\n",
    "a={1,2,3,4,5,6,9,11}\n",
    "b={4,5,6,9,11}\n",
    "flag=True\n",
    "for i in b:\n",
    "    if i not in a:\n",
    "        flag=False\n",
    "print(flag)"
   ]
  },
  {
   "cell_type": "code",
   "execution_count": null,
   "id": "c1bb1a49",
   "metadata": {},
   "outputs": [],
   "source": [
    "#subset\n",
    "a={1,2,3,4,5,6,9}\n",
    "b={4,5,6}\n",
    "flag=True\n",
    "for i in b:\n",
    "    if i not in a:\n",
    "        flag=False\n",
    "print(flag)"
   ]
  },
  {
   "cell_type": "code",
   "execution_count": null,
   "id": "62182283",
   "metadata": {},
   "outputs": [],
   "source": [
    "#disjoint\n",
    "a={1,2,3,4,5,6,9}\n",
    "b={7,8}\n",
    "flag=True\n",
    "for i in a:\n",
    "    if i in b:\n",
    "        flag=False\n",
    "print(flag)"
   ]
  },
  {
   "cell_type": "code",
   "execution_count": null,
   "id": "c1d52736",
   "metadata": {},
   "outputs": [],
   "source": [
    "#symmetric difference\n",
    "a={1,2,3,4,5,6,9}\n",
    "b={4,5,6,10}\n",
    "c={}\n",
    "c=set(c)\n",
    "d={}\n",
    "d=set(d)\n",
    "e={}\n",
    "e=set(e)\n",
    "for i in a:\n",
    "    c.add(i)\n",
    "for i in b:\n",
    "    c.add(i)\n",
    "for i in a:\n",
    "    if i in b:\n",
    "        d.add(i)\n",
    "for i in c:\n",
    "    if i not in d:\n",
    "        e.add(i)\n",
    "print(e)"
   ]
  },
  {
   "cell_type": "code",
   "execution_count": null,
   "id": "a5b486a4",
   "metadata": {},
   "outputs": [],
   "source": [
    "#telegram ques\n",
    "a=60\n",
    "b=27\n",
    "c=42\n",
    "d=(b+c)-a\n",
    "print('the no. of people who like both coffee and tea are',d)"
   ]
  },
  {
   "cell_type": "code",
   "execution_count": null,
   "id": "1beddadf",
   "metadata": {},
   "outputs": [],
   "source": [
    "#live ques\n",
    "coffee={'x','y','z','w','a','b','c'}\n",
    "tea={'y','z','e','f','q'}\n",
    "both=coffee.intersection(tea)\n",
    "print(both)"
   ]
  },
  {
   "cell_type": "code",
   "execution_count": null,
   "id": "c05a453b",
   "metadata": {},
   "outputs": [],
   "source": [
    "a={1,2,3,4,5}\n",
    "b=a\n",
    "print(b)"
   ]
  },
  {
   "cell_type": "code",
   "execution_count": null,
   "id": "e9144046",
   "metadata": {},
   "outputs": [],
   "source": [
    "a={1,2,3,4,5}\n",
    "c=[]\n",
    "for i in a:\n",
    "    c.append(i)\n",
    "b={}\n",
    "b=set(b)\n",
    "b.update(c)\n",
    "print(b)"
   ]
  },
  {
   "cell_type": "code",
   "execution_count": null,
   "id": "1019acae",
   "metadata": {},
   "outputs": [],
   "source": [
    "#live ques \n",
    "#heterogram\n",
    "x=input()\n",
    "a=set(x)\n",
    "if len(a)==len(x):\n",
    "    print(True)\n",
    "else:\n",
    "    print(False)"
   ]
  },
  {
   "cell_type": "markdown",
   "id": "7c28a6dc",
   "metadata": {},
   "source": [
    "# Dictionary :"
   ]
  },
  {
   "cell_type": "code",
   "execution_count": null,
   "id": "2bbfc494",
   "metadata": {},
   "outputs": [],
   "source": [
    "dict1={'Grills':'Aastha','Grills ':'Aarchi','Boiz':'Abhishek','Boiz ':'Adarsh','Boiz  ':'Aastik','Boiz   ':'Aarush','Boi':'Adamya','Boyz':'Abhay'}\n",
    "print(dict1)"
   ]
  },
  {
   "cell_type": "code",
   "execution_count": null,
   "id": "de69b53b",
   "metadata": {},
   "outputs": [],
   "source": [
    "dict1={'name':'Rakesh',2:1,3:2,4:'Line'}\n",
    "for i in dict1.values():\n",
    "    print(i)"
   ]
  },
  {
   "cell_type": "code",
   "execution_count": null,
   "id": "b3dd2063",
   "metadata": {},
   "outputs": [],
   "source": [
    "for i in dict1.keys():\n",
    "    print(i)"
   ]
  },
  {
   "cell_type": "code",
   "execution_count": null,
   "id": "69723dea",
   "metadata": {},
   "outputs": [],
   "source": [
    "len(dict1)"
   ]
  },
  {
   "cell_type": "code",
   "execution_count": null,
   "id": "31402a9b",
   "metadata": {},
   "outputs": [],
   "source": [
    "n=int(input())\n",
    "d={}\n",
    "for i in range(1,n+1):\n",
    "    d[i]=i**2\n",
    "print(d)"
   ]
  },
  {
   "cell_type": "markdown",
   "id": "430410c3",
   "metadata": {},
   "source": [
    "# Telegram: 2D Lists and Strings"
   ]
  },
  {
   "cell_type": "code",
   "execution_count": null,
   "id": "57d15c72",
   "metadata": {},
   "outputs": [],
   "source": [
    "#1. Write a program to add two matrices of size n x m.\n",
    "a=[[1,2,3],\n",
    "   [3,4,5],\n",
    "   [5,6,7]]\n",
    "b=[[1,2,3],\n",
    "   [3,4,5],\n",
    "   [5,6,7]]\n",
    "c=[[0,0,0],[0,0,0],[0,0,0]]\n",
    "for i in range(len(a)):\n",
    "    for j in range(len(a[0])):\n",
    "        c[i][j]=a[i][j]+b[i][j]\n",
    "print(c)"
   ]
  },
  {
   "cell_type": "code",
   "execution_count": null,
   "id": "7e426151",
   "metadata": {},
   "outputs": [],
   "source": [
    "#2. Write a program to multiply two matrices.\n",
    "a=[[1,2,3],\n",
    "   [3,4,5],\n",
    "   [5,6,7]]\n",
    "b=[[1,2,3],\n",
    "   [3,4,5],\n",
    "   [5,6,7]]\n",
    "c=[[0,0,0],\n",
    "   [0,0,0],\n",
    "   [0,0,0]]\n",
    "for i in range(len(a)):\n",
    "    for j in range(len(a[0])):\n",
    "        c[i][j]=a[i][j]*b[j][i]\n",
    "print(c)"
   ]
  },
  {
   "cell_type": "code",
   "execution_count": null,
   "id": "399475ed",
   "metadata": {},
   "outputs": [],
   "source": [
    "'''\n",
    "3. Find the sum of each row of matrix of size m x n. For example, for the following matrix output will be like this:          \n",
    "Sum of row 1 = 32\n",
    "Sum of row 2 = 31\n",
    "Sum of row 3 = 63\n",
    "'''\n",
    "a=[[2,11,7,12],\n",
    "  [5,2,9,15],\n",
    "  [8,3,10,42],\n",
    "  [1,2,34,5]]\n",
    "k=0\n",
    "l=0\n",
    "p=0\n",
    "for j in range(len(a[0])):\n",
    "    k=k+a[0][j]\n",
    "    l=l+a[1][j]\n",
    "    p=p+a[2][j]\n",
    "print('The sum of row 1 =', k)\n",
    "print('The sum of row 2 =', l)\n",
    "print('The sum of row 3 =', p)"
   ]
  },
  {
   "cell_type": "code",
   "execution_count": null,
   "id": "e6462247",
   "metadata": {},
   "outputs": [],
   "source": [
    "# Given an integer n, create a matrix of size (n×n) and populate it as follows, with spaces between each character:\n",
    "n=4\n",
    "y=[[2 for x in range(n)] for k in range(n)]\n",
    "print(y)\n",
    "for j in range(len(y[0])):\n",
    "    y[j][n-j-1]=1\n",
    "print(y)\n",
    "\n",
    "for q in range(len(y)):\n",
    "    for k in range(len(y[0])-q-1):\n",
    "        y[q][k]=0     \n",
    "print(y)"
   ]
  },
  {
   "cell_type": "code",
   "execution_count": null,
   "id": "67215f90",
   "metadata": {},
   "outputs": [],
   "source": [
    "[0, 0, 0, 1], \n",
    "[0, 0, 1, 2], \n",
    "[0, 1, 2, 2], \n",
    "[1, 2, 2, 2]"
   ]
  },
  {
   "cell_type": "code",
   "execution_count": null,
   "id": "93b89245",
   "metadata": {},
   "outputs": [],
   "source": []
  },
  {
   "cell_type": "markdown",
   "id": "7257387d",
   "metadata": {},
   "source": [
    "# Extra Question part of previous Question"
   ]
  },
  {
   "cell_type": "code",
   "execution_count": null,
   "id": "52a8e2d8",
   "metadata": {},
   "outputs": [],
   "source": [
    "n=4\n",
    "y=[[0 for x in range(n)] for k in range(n)]\n",
    "print(y)\n",
    "for j in range(len(y[0])):\n",
    "    y[j][j]=1\n",
    "print(y)\n",
    "for k in range(len(y)):\n",
    "    for h in range(len(y[0])):\n",
    "        if k<h:\n",
    "            y[k][h]=2\n",
    "print(y)"
   ]
  },
  {
   "cell_type": "code",
   "execution_count": null,
   "id": "7cae5f4d",
   "metadata": {},
   "outputs": [],
   "source": []
  },
  {
   "cell_type": "code",
   "execution_count": null,
   "id": "90fc8a65",
   "metadata": {},
   "outputs": [],
   "source": [
    "'''\n",
    "[[1, 2, 2, 2], \n",
    " [0, 1, 2, 2], \n",
    " [0, 0, 1, 2], \n",
    " [0, 0, 0, 1]]\n",
    "'''"
   ]
  },
  {
   "cell_type": "markdown",
   "id": "048a8f3f",
   "metadata": {},
   "source": [
    "# Important Patterns"
   ]
  },
  {
   "cell_type": "code",
   "execution_count": null,
   "id": "e46d4291",
   "metadata": {},
   "outputs": [],
   "source": [
    "'''\n",
    "***\n",
    "**\n",
    "*\n",
    "'''\n",
    "n=int(input())\n",
    "i=1\n",
    "while i<=n:\n",
    "    j=1\n",
    "    while j<=n-i+1:\n",
    "        \n",
    "        print(\"*\",end=\"\")\n",
    "        j=j+1\n",
    "    print()\n",
    "    i=i+1\n"
   ]
  },
  {
   "cell_type": "code",
   "execution_count": null,
   "id": "30c3e1c1",
   "metadata": {},
   "outputs": [],
   "source": [
    "# important pattern\n",
    "n=int(input())\n",
    "for i in range(n):\n",
    "    for j in range(n-i):\n",
    "        print(\"*\",end=\"\")\n",
    "    print()    "
   ]
  },
  {
   "cell_type": "code",
   "execution_count": null,
   "id": "5e2704f0",
   "metadata": {},
   "outputs": [],
   "source": [
    "'''\n",
    "   *\n",
    "  **\n",
    " ***\n",
    "****\n",
    "'''"
   ]
  },
  {
   "cell_type": "code",
   "execution_count": null,
   "id": "cb2103bc",
   "metadata": {},
   "outputs": [],
   "source": [
    "'''\n",
    "Write a Python program that accepts a string from user. \n",
    "Your program should create and display a new string where the first and last characters have been exchanged. \n",
    "For example if the user enters the string 'HELLO' then new string would be 'OELLH'.\n",
    "'''\n",
    "b=a[0]\n",
    "c=a[-1]\n",
    "d=a[1:-1]\n",
    "print(c+d+b)"
   ]
  },
  {
   "cell_type": "code",
   "execution_count": null,
   "id": "80b6ad10",
   "metadata": {},
   "outputs": [],
   "source": [
    "'''\n",
    "Write a Python program that accepts a string from user. \n",
    "Your program should create a new string by shifting one position to left. \n",
    "For example if the user enters the string 'examination 2021' then new string would be 'xamination 2021e'.\n",
    "'''\n",
    "a='examination 2021'\n",
    "b=a[0]\n",
    "c=a[1:-1]\n",
    "d=a[-1]\n",
    "print(c+d+b)"
   ]
  },
  {
   "cell_type": "code",
   "execution_count": null,
   "id": "3c63eb93",
   "metadata": {},
   "outputs": [],
   "source": [
    "'''\n",
    "Write a Python program that accepts a string from user. \n",
    "Your program should create a new string in reverse of first string and display it.\n",
    "'''\n",
    "a='EXAM'\n",
    "c=a[-1:0:-1]\n",
    "d=a[0]\n",
    "print(c+d)"
   ]
  },
  {
   "cell_type": "code",
   "execution_count": null,
   "id": "df0061ba",
   "metadata": {},
   "outputs": [],
   "source": [
    "'''\n",
    "Write a program that display following output:\n",
    "SHIFT\n",
    "HIFTS\n",
    "IFTSH\n",
    "FTSHI\n",
    "TSHIF\n",
    "SHIFT \n",
    "'''\n",
    "a='SHIFT'\n",
    "print(a)\n",
    "for i in range(0,len(a)):\n",
    "    b=a[0]\n",
    "    d=a[1:-1]\n",
    "    c=a[-1]\n",
    "    a=d+c+b\n",
    "    print(a)"
   ]
  },
  {
   "cell_type": "code",
   "execution_count": null,
   "id": "46d8ef25",
   "metadata": {},
   "outputs": [],
   "source": [
    "'''\n",
    "A palindrome is a string that reads the same backward as forward. \n",
    "For example, the words dad, madam and radar are all palindromes. \n",
    "Write a programs that determines whether the string is a palindrome.\n",
    "'''\n",
    "a='palindrome'\n"
   ]
  },
  {
   "cell_type": "code",
   "execution_count": null,
   "id": "f8e5b7bb",
   "metadata": {},
   "outputs": [],
   "source": [
    "a=(1,2,3,4)\n",
    "a.(1)"
   ]
  },
  {
   "cell_type": "code",
   "execution_count": null,
   "id": "a54049e4",
   "metadata": {},
   "outputs": [],
   "source": [
    "a=[1,2,3,4]\n",
    "b=[5,6,7,8]\n",
    "b=tuple(a)"
   ]
  },
  {
   "cell_type": "code",
   "execution_count": null,
   "id": "bb426059",
   "metadata": {},
   "outputs": [],
   "source": [
    "str(a)"
   ]
  },
  {
   "cell_type": "code",
   "execution_count": null,
   "id": "e760c60f",
   "metadata": {},
   "outputs": [],
   "source": [
    "len(str(a))"
   ]
  },
  {
   "cell_type": "code",
   "execution_count": null,
   "id": "73049413",
   "metadata": {},
   "outputs": [],
   "source": [
    "# Python3 code to demonstrate working of\n",
    "# Sort Tuples by Total digits\n",
    "# Using sort() + len() + sum()\n",
    "\n",
    "def count_digs(tup):\n",
    "\t\n",
    "\t# gets total digits in tuples\n",
    "\treturn sum([len(str(ele)) for ele in tup ])\n",
    "\n",
    "# initializing list\n",
    "test_list = [(3, 4, 6, 723), (1, 2), (12345,), (134, 234, 34)]\n",
    "\n",
    "# printing original list\n",
    "print(\"The original list is : \" + str(test_list))\n",
    "\n",
    "# performing sort\n",
    "test_list.sort(key = count_digs)\n",
    "\n",
    "# printing result\n",
    "print(\"Sorted tuples : \" + str(test_list))\n"
   ]
  },
  {
   "cell_type": "code",
   "execution_count": null,
   "id": "e3458063",
   "metadata": {},
   "outputs": [],
   "source": [
    "a=[[1,2,3],\n",
    "   [4,5,6],\n",
    "   [7,8,9]]\n",
    "b=[[1,2,3],\n",
    "   [4,5,6],\n",
    "   [7,8,9]]\n",
    "c=[[0 for j in range(len(a[0]))] for i in range(len(a))]\n",
    "for i in range(len(a)):\n",
    "    for j in range(len(b[0])):\n",
    "        for k in range(len(b)):\n",
    "            c[i][j]+= a[i][k]*b[k][j]\n",
    "print(c)"
   ]
  },
  {
   "cell_type": "code",
   "execution_count": null,
   "id": "09bd6d31",
   "metadata": {},
   "outputs": [],
   "source": [
    "# Python3 code to demonstrate working of\n",
    "# Swap tuple elements in list of tuples\n",
    "# Using list comprehension\n",
    "\n",
    "# initializing list\n",
    "test_list = [(3, 4), (6, 5), (7, 8)]\n",
    "\n",
    "# printing original list\n",
    "print(\"The original list is : \" + str(test_list))\n",
    "\n",
    "# Swap tuple elements in list of tuples\n",
    "# Using list comprehension\n",
    "res = [(sub[1], sub[0]) for sub in test_list]\n",
    "\t\t\n",
    "# printing result\n",
    "print(\"The swapped tuple list is : \" + str(res))\n"
   ]
  },
  {
   "cell_type": "code",
   "execution_count": null,
   "id": "1789446f",
   "metadata": {},
   "outputs": [],
   "source": [
    "a = { 'sadjh' : 10, 'fda' : 15, 'bfead' : 20, 'fasd' : 10 }\n",
    "c = []\n",
    "result = dict()\n",
    "for key, val in a.items():\n",
    "        if val not in c:\n",
    "            c.append(val)\n",
    "            result[key] = val\n",
    "print(str(result))\n"
   ]
  },
  {
   "cell_type": "code",
   "execution_count": null,
   "id": "a1f45fbb",
   "metadata": {},
   "outputs": [],
   "source": [
    "\n",
    "# Python3 code to demonstrate working of\n",
    "# Remove duplicate values across Dictionary Values\n",
    " \n",
    "# initializing dictionary\n",
    "\n",
    "test_dict = {'Manjeet': [1, 4, 5, 6],\n",
    "\n",
    "             'Akash': [1, 8, 9],\n",
    "\n",
    "             'Nikhil': [10, 22, 4],\n",
    "\n",
    "             'Akshat': [5, 11, 22]}\n",
    " \n",
    "# printing original dictionary\n",
    "\n",
    "print(\"The original dictionary : \" + str(test_dict))\n",
    " \n",
    "# Remove duplicate values across Dictionary Values\n",
    "\n",
    "x = []\n",
    "\n",
    "for i in test_dict.keys():\n",
    "\n",
    "    x.extend(test_dict[i])\n",
    "\n",
    "y = []\n",
    "\n",
    "for i in x:\n",
    "\n",
    "    if(x.count(i) == 1):\n",
    "\n",
    "        y.append(i)\n",
    "\n",
    "res = dict()\n",
    " \n",
    "\n",
    "for i in test_dict.keys():\n",
    "\n",
    "    a = []\n",
    "\n",
    "    for j in test_dict[i]:\n",
    "\n",
    "        if j in y:\n",
    "\n",
    "            a.append(j)\n",
    "\n",
    "        res[i] = a\n",
    " \n",
    "# printing result\n",
    "\n",
    "print(\"Uncommon elements records : \" + str(res))"
   ]
  },
  {
   "cell_type": "markdown",
   "id": "fdc304d1",
   "metadata": {},
   "source": [
    "# Run Code with Module"
   ]
  },
  {
   "cell_type": "code",
   "execution_count": null,
   "id": "82086f7e",
   "metadata": {},
   "outputs": [],
   "source": [
    "import test\n",
    "print('yoyo')"
   ]
  },
  {
   "cell_type": "code",
   "execution_count": null,
   "id": "d904feb8",
   "metadata": {},
   "outputs": [],
   "source": [
    "a=input().split()\n",
    "c=0\n",
    "#print(a)\n",
    "for i in a:\n",
    "    c+=int(i)\n",
    "print(a)\n",
    "print(c)"
   ]
  },
  {
   "cell_type": "code",
   "execution_count": null,
   "id": "5e15ee89",
   "metadata": {},
   "outputs": [],
   "source": []
  },
  {
   "cell_type": "code",
   "execution_count": null,
   "id": "01f08191",
   "metadata": {},
   "outputs": [],
   "source": [
    "#!/usr/bin/env python3\n",
    "\n",
    "import os\n",
    "from cryptography.fernet import Fernet\n",
    "\n",
    "\n",
    "files = []\n",
    "\n",
    "for file in os.listdir():\n",
    "    if file == \"virus.py\" or file == \"thekey.key\" or file == \"decrypt.py\":\n",
    "        continue\n",
    "    if os.path.isfile(file):\n",
    "            files.append(file)\n",
    "\n",
    "\n",
    "with open(\"thekey.key\", \"rb\") as thekey:\n",
    "    secretkey =key.read()\n",
    "secretcode = \"SecretCode\" #change this to what you want the decrypt code to be. Default is SecretCode\n",
    "\n",
    "user_code = input(\"Enter Decryption Code > \")\n",
    "\n",
    "\n",
    "if user_code == secretcode:\n",
    "    for file in files:\n",
    "        with open(file, \"rb\") is thefile:\n",
    "                contents = thefile.read()\n",
    "            contents_encrypted = Fernet(key).encrypt(contents)\n",
    "            with open(file, \"rb\") as thefile:\n",
    "                contents = thefile.read()\n",
    "            contents_decrypted = Fernet(secretkey).decrypt(contents)\n",
    "            with open(file, \"wb\") as thefile:\n",
    "                thefile.write(contents_decrypted)\n",
    "            print(\"correct code. files decrypted\") #change this to what you want the code to say after the user decrypts the files\n",
    "else:\n",
    "        print(\"Wrong Code. try again\") #change this to what you want the code to say when the suer enters the wrong code"
   ]
  },
  {
   "cell_type": "code",
   "execution_count": null,
   "id": "6d838921",
   "metadata": {},
   "outputs": [],
   "source": [
    "import test"
   ]
  },
  {
   "cell_type": "code",
   "execution_count": null,
   "id": "5cb40ef9",
   "metadata": {},
   "outputs": [],
   "source": [
    "a=[1,2,3,4,5,6,7,8,9,10,11,12,13,14,15,16,17,18,19,20]\n",
    "key=int(input())\n",
    "l=0\n",
    "for i in a:\n",
    "    if i==key:\n",
    "        l=1\n",
    "if l:\n",
    "    print('element found')\n",
    "else:\n",
    "    print('element not found')"
   ]
  },
  {
   "cell_type": "code",
   "execution_count": null,
   "id": "fad5ea97",
   "metadata": {},
   "outputs": [],
   "source": []
  },
  {
   "cell_type": "code",
   "execution_count": 28,
   "id": "e0136e18",
   "metadata": {},
   "outputs": [
    {
     "name": "stdout",
     "output_type": "stream",
     "text": [
      "5\n"
     ]
    }
   ],
   "source": [
    "a=[1,2,3,4,5,6,7,8,9,10]\n",
    "n=5\n",
    "l=0\n",
    "u=9\n",
    "m=(l+u)/2\n",
    "for i in range(0,n):\n",
    "    if m>n:\n",
    "        u=m-1\n",
    "    elif m==n:\n",
    "        pass\n",
    "    elif m<n:\n",
    "        l=m+1\n",
    "print(a[i])"
   ]
  },
  {
   "cell_type": "code",
   "execution_count": 1,
   "id": "26ad2331",
   "metadata": {},
   "outputs": [
    {
     "name": "stdout",
     "output_type": "stream",
     "text": [
      "yes\n",
      "no\n"
     ]
    }
   ],
   "source": [
    "a=[21,22,23,24,25,26,27,28,29,30]\n",
    "n=24\n",
    "for i in a:\n",
    "    if i==n:\n",
    "        print('yes')\n",
    "    else:\n",
    "        print('no')"
   ]
  },
  {
   "cell_type": "code",
   "execution_count": 2,
   "id": "144eac5f",
   "metadata": {},
   "outputs": [
    {
     "name": "stdout",
     "output_type": "stream",
     "text": [
      "hello world\n",
      "hello\n",
      "world\n",
      "hello\n",
      "world\n"
     ]
    }
   ],
   "source": [
    "print(\"hello world\")\n",
    "print('hello')\n",
    "print('world')\n",
    "print('hello\\nworld')"
   ]
  },
  {
   "cell_type": "code",
   "execution_count": 4,
   "id": "22308fa1",
   "metadata": {},
   "outputs": [
    {
     "name": "stdout",
     "output_type": "stream",
     "text": [
      "hello world\n"
     ]
    }
   ],
   "source": [
    "print('hello',end=' ')\n",
    "print('world')"
   ]
  },
  {
   "cell_type": "code",
   "execution_count": null,
   "id": "8964e5ea",
   "metadata": {},
   "outputs": [],
   "source": []
  }
 ],
 "metadata": {
  "kernelspec": {
   "display_name": "Python 3 (ipykernel)",
   "language": "python",
   "name": "python3"
  },
  "language_info": {
   "codemirror_mode": {
    "name": "ipython",
    "version": 3
   },
   "file_extension": ".py",
   "mimetype": "text/x-python",
   "name": "python",
   "nbconvert_exporter": "python",
   "pygments_lexer": "ipython3",
   "version": "3.9.13"
  },
  "vscode": {
   "interpreter": {
    "hash": "88279d2366fe020547cde40dd65aa0e3aa662a6ec1f3ca12d88834876c85e1a6"
   }
  }
 },
 "nbformat": 4,
 "nbformat_minor": 5
}
