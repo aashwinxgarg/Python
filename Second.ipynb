{
 "cells": [
  {
   "cell_type": "code",
   "execution_count": 16,
   "id": "a53dd46b",
   "metadata": {},
   "outputs": [
    {
     "name": "stdout",
     "output_type": "stream",
     "text": [
      "Enter Lower limit:- 1\n",
      "Enter Upper limit:- 2\n",
      "You've only  2  chances to guess the integer!\n",
      "Guess a number:- 3\n",
      "You Guessed too high!\n",
      "\n",
      "The number is:  1\n",
      "Better Luck Next time!\n"
     ]
    }
   ],
   "source": [
    "import random\n",
    "import math\n",
    "\n",
    "# Taking an input of the lower limit of the deciding range.\n",
    "lower = int(input(\"Enter Lower limit:- \"))\n",
    "\n",
    "# Taking an input of the upper limit of the deciding range.\n",
    "upper = int(input(\"Enter Upper limit:- \"))\n",
    "\n",
    "# Generating a random number between the lower and the upper range.\n",
    "x = random.randint(lower, upper)\n",
    "print(\"You've only \",\n",
    "    round(math.log(upper - lower + 1, 2)),\n",
    "    \" chances to guess the integer!\")\n",
    "\n",
    "# Initializing the number of guesses.\n",
    "count = 0\n",
    "\n",
    "# for calculation of minimum number.\n",
    "# guesses depends upon range.\n",
    "while count < math.log(upper - lower + 1, 2):\n",
    "    count += 1\n",
    "\n",
    "    # taking guessing number as input.\n",
    "    guess = int(input(\"Guess a number:- \"))\n",
    "\n",
    "    # Condition testing i.e. if the guess is correct.\n",
    "    if x == guess:\n",
    "        print(\"Congratulations you did it in \",\n",
    "            count, \" try\")\n",
    "        # Once guessed, loop will break.\n",
    "        break\n",
    "    elif x > guess:\n",
    "        print(\"You guessed too small!\")\n",
    "    elif x < guess:\n",
    "        print(\"You Guessed too high!\")\n",
    "\n",
    "# If guessed answers are more than given number of guesses.\n",
    "# shows this output.\n",
    "if count == math.log(upper - lower + 1, 2):\n",
    "    print(\"\\nThe number is: \", x)\n",
    "    print(\"Better Luck Next time!\")"
   ]
  },
  {
   "cell_type": "code",
   "execution_count": null,
   "id": "0cdcf039",
   "metadata": {},
   "outputs": [],
   "source": [
    "### Read input as specified in the question\n",
    "## Print the required output in given format\n",
    "n=int(input())\n",
    "i=1\n",
    "while i<=n:\n",
    "    j=1\n",
    "    while j<=n:\n",
    "        print(n,end=\"\")\n",
    "        j+=1\n",
    "    print()\n",
    "    i=i+1"
   ]
  },
  {
   "cell_type": "code",
   "execution_count": null,
   "id": "176b3e81",
   "metadata": {},
   "outputs": [],
   "source": []
  },
  {
   "cell_type": "code",
   "execution_count": null,
   "id": "077bc801",
   "metadata": {},
   "outputs": [],
   "source": []
  },
  {
   "cell_type": "code",
   "execution_count": null,
   "id": "73747ef9",
   "metadata": {},
   "outputs": [],
   "source": [
    "## Read input as specified in the question\n",
    "## Print the required output in given format\n",
    "n=int(input())\n",
    "i=1\n",
    "while i<=n:\n",
    "    j=1\n",
    "    while j<=n:\n",
    "        print(i,end=\"\")\n",
    "        j+=1\n",
    "    print()\n",
    "    i=i+1"
   ]
  },
  {
   "cell_type": "code",
   "execution_count": null,
   "id": "bced0e17",
   "metadata": {},
   "outputs": [],
   "source": [
    "## Read input as specified in the question\n",
    "## Print the required output in given format\n",
    "n=int(input())\n",
    "i=1\n",
    "while i<=n:\n",
    "    j=1\n",
    "    while j<=n:\n",
    "        print(j,end=\"\")\n",
    "        j+=1\n",
    "    print()\n",
    "    i=i+1"
   ]
  },
  {
   "cell_type": "code",
   "execution_count": null,
   "id": "ebf1f3c2",
   "metadata": {},
   "outputs": [],
   "source": [
    "## Read input as specified in the question\n",
    "## Print the required output in given format\n",
    "n=int(input())\n",
    "i=1\n",
    "while i<=n:\n",
    "    j=1\n",
    "    while j<=n:\n",
    "        print(n-j+1,end=\"\")\n",
    "        j+=1\n",
    "    print()\n",
    "    i=i+1"
   ]
  },
  {
   "cell_type": "code",
   "execution_count": null,
   "id": "4b242eee",
   "metadata": {},
   "outputs": [],
   "source": [
    "n = int(input())\n",
    "a = 0\n",
    "b =1\n",
    "for i in range(0,n-1):\n",
    "    if n == 1:\n",
    "        print(0)\n",
    "    elif n==2:\n",
    "        print(1)\n",
    "    else:\n",
    "        c= a +b\n",
    "        a=b\n",
    "        b=c\n",
    "print(c)"
   ]
  },
  {
   "cell_type": "code",
   "execution_count": null,
   "id": "6671b39b",
   "metadata": {},
   "outputs": [],
   "source": [
    "n=int(input())\n",
    "a=0\n",
    "b=1\n",
    "c=0\n",
    "if n==0:\n",
    "    print(0)\n",
    "if n==1:\n",
    "    print(1)\n",
    "if n==2:\n",
    "    print(1)\n",
    "else:\n",
    "    for i in range(0,n-1):\n",
    "        c=a+b\n",
    "        a=b\n",
    "        b=c\n",
    "        print(c)"
   ]
  },
  {
   "cell_type": "code",
   "execution_count": null,
   "id": "d857746a",
   "metadata": {},
   "outputs": [],
   "source": [
    "n=int(input())\n",
    "a=0\n",
    "b=1\n",
    "c=0\n",
    "if n==0:\n",
    "    print(0)\n",
    "if n==1:\n",
    "    print(1)\n",
    "if n>2:\n",
    "    for i in range(1,n):\n",
    "        c=a+b\n",
    "        a=b\n",
    "        b=c\n",
    "    print(c)"
   ]
  },
  {
   "cell_type": "code",
   "execution_count": null,
   "id": "85f3df0d",
   "metadata": {},
   "outputs": [],
   "source": [
    "n=int(input())\n",
    "a=0\n",
    "b=1\n",
    "c=0\n",
    "if n==0:\n",
    "    print(0)\n",
    "if n==1:\n",
    "    print(1)\n",
    "if n>2:\n",
    "    for i in range(0,n-1):\n",
    "        c=a+b\n",
    "        a=b\n",
    "        b=c\n",
    "    print(c)"
   ]
  },
  {
   "cell_type": "code",
   "execution_count": null,
   "id": "f5a27ffb",
   "metadata": {},
   "outputs": [],
   "source": [
    "n=int(input())\n",
    "val=65\n",
    "for i in range(1,n+1):\n",
    "    for j in range(1,n+1):\n",
    "        print(chr(val+j),end=\"\")\n",
    "    print()"
   ]
  },
  {
   "cell_type": "code",
   "execution_count": null,
   "id": "c4fff54c",
   "metadata": {},
   "outputs": [],
   "source": [
    "n=int(input())\n",
    "for i in range(n,0-1):\n",
    "    for j in range(i,0,-1):\n",
    "        print(\"*\",end=\"\")\n",
    "    print()"
   ]
  },
  {
   "cell_type": "code",
   "execution_count": null,
   "id": "423108a3",
   "metadata": {},
   "outputs": [],
   "source": [
    "n=int(input())\n",
    "for i in range(1,n+1):\n",
    "    for j in range(1,i+1):\n",
    "        print(chr(ord(\"E\")+j-i),end=\"\")\n",
    "    print()"
   ]
  },
  {
   "cell_type": "code",
   "execution_count": null,
   "id": "bd70be28",
   "metadata": {},
   "outputs": [],
   "source": [
    "n=int(input())\n",
    "for i in range(n,0,-1):\n",
    "    for j in range(i,0,-1):\n",
    "        print(1,end=\"\")\n",
    "    print()"
   ]
  },
  {
   "cell_type": "code",
   "execution_count": null,
   "id": "8efc8fb2",
   "metadata": {},
   "outputs": [],
   "source": [
    "list=[0,1,2,\"aastha\",1,\"aarchi\",0.01]\n",
    "print(list[3:6])"
   ]
  },
  {
   "cell_type": "code",
   "execution_count": null,
   "id": "b26fe8af",
   "metadata": {},
   "outputs": [],
   "source": [
    "list=[0,1,3,5,6]\n",
    "print(list)"
   ]
  },
  {
   "cell_type": "code",
   "execution_count": null,
   "id": "ebc6ea1b",
   "metadata": {},
   "outputs": [],
   "source": [
    "list=[\"hfi\",\"edb\",0,5]\n",
    "print(list[:])"
   ]
  },
  {
   "cell_type": "code",
   "execution_count": null,
   "id": "c1941b14",
   "metadata": {},
   "outputs": [],
   "source": [
    "list=[\"hey\",7928,\"hied\",0.837,True,[\"hdieh\",64]]\n",
    "print(list[5][0])"
   ]
  },
  {
   "cell_type": "code",
   "execution_count": null,
   "id": "929d8212",
   "metadata": {},
   "outputs": [],
   "source": [
    "list=[1,2,3,\"amit\",0.01,1,\"amit\"]\n",
    "print(list[1:-3])"
   ]
  },
  {
   "cell_type": "code",
   "execution_count": null,
   "id": "347ca996",
   "metadata": {},
   "outputs": [],
   "source": [
    "import datetime\n",
    "a=[\"a\",12,34.56,56+7j,True,datetime.datetime(2022,11,10)]\n",
    "a[5]=546875467495769457698567895764985769845768946767\n",
    "print(a)"
   ]
  },
  {
   "cell_type": "code",
   "execution_count": null,
   "id": "6956b3d4",
   "metadata": {},
   "outputs": [],
   "source": [
    "list=[1,2,3,\"amit\",0.01,1,\"amit\"]\n",
    "list2=[\"hey\",7928,\"hied\",0.837,True,[\"hdieh\",64]]\n",
    "list.append(7)\n",
    "list.insert(1,\"kavita\")\n",
    "list.pop()\n",
    "list.pop(5)\n",
    "list.remove(3)\n",
    "del list[2]\n",
    "list.extend(list2)\n",
    "print(list)"
   ]
  },
  {
   "cell_type": "code",
   "execution_count": null,
   "id": "6d298c03",
   "metadata": {},
   "outputs": [],
   "source": [
    "l=[1,2,3,\"amit\",0.01,1,\"amit\"]\n",
    "for i in l:\n",
    "    print(i,end=\"\")\n",
    "n=len(l)\n",
    "for i in range(n):\n",
    "    print(l[i])\n",
    "n=int(input())\n",
    "for i in range(n):\n",
    "    x=int(input())\n",
    "    l.append(x)\n",
    "print(l)"
   ]
  },
  {
   "cell_type": "code",
   "execution_count": null,
   "id": "2fd6b623",
   "metadata": {},
   "outputs": [],
   "source": [
    "def change(li):\n",
    "    li[1]+=2\n",
    "    li=[3,4,5,6,7]\n",
    "li=[1,2,3,4,5]\n",
    "change(li)\n",
    "print(li)"
   ]
  },
  {
   "cell_type": "code",
   "execution_count": null,
   "id": "379c8dd1",
   "metadata": {},
   "outputs": [],
   "source": [
    "l=[1,2,3,\"amit\",0.01,1,\"amit\"]\n",
    "print(l[:])"
   ]
  },
  {
   "cell_type": "code",
   "execution_count": null,
   "id": "8272d633",
   "metadata": {},
   "outputs": [],
   "source": [
    "#line seperated input \n",
    "l=[]\n",
    "n=int(input())\n",
    "for i in range(n):\n",
    "    x=int(input())\n",
    "    l.append(x)\n",
    "print(l)"
   ]
  },
  {
   "cell_type": "code",
   "execution_count": null,
   "id": "826bdaf0",
   "metadata": {},
   "outputs": [],
   "source": [
    "#space separated input\n",
    "l=[]\n",
    "l=input().split()\n",
    "print(l)"
   ]
  },
  {
   "cell_type": "code",
   "execution_count": null,
   "id": "15588492",
   "metadata": {},
   "outputs": [],
   "source": [
    "li=input().split()\n",
    "li=[int(i) for i in li]\n",
    "print(li)"
   ]
  },
  {
   "cell_type": "code",
   "execution_count": null,
   "id": "a191a42b",
   "metadata": {},
   "outputs": [],
   "source": [
    "l=[9,8,96327,62,6132,6237,823,133,96828,639,3762,72]\n",
    "max=-1\n",
    "for i in range(len(l)):\n",
    "    if max<=l[i]:\n",
    "        max=l[i]\n",
    "print(max)"
   ]
  },
  {
   "cell_type": "code",
   "execution_count": null,
   "id": "4d322284",
   "metadata": {},
   "outputs": [],
   "source": [
    "list=[1,2,3,4,5]\n",
    "x=list[-1]\n",
    "for i in range(len(list)-1):\n",
    "    list[i+1]=list[i]\n",
    "list.insert(0,x)\n",
    "print(list)"
   ]
  },
  {
   "cell_type": "code",
   "execution_count": null,
   "id": "b8cb99cd",
   "metadata": {},
   "outputs": [],
   "source": [
    "list1=[]\n",
    "n=int(input())\n",
    "for i in range(n):\n",
    "    x=int(input())\n",
    "    list1.append(x)\n",
    "print(list1)"
   ]
  },
  {
   "cell_type": "code",
   "execution_count": null,
   "id": "f45f43fb",
   "metadata": {},
   "outputs": [],
   "source": [
    "list=[1,2,3,4,5]\n",
    "x=int(input())\n",
    "for i in range(len(list)):\n",
    "    if x==list[i]:\n",
    "        print(\"yes\")\n",
    "else:\n",
    "    print(\"no\")"
   ]
  },
  {
   "cell_type": "code",
   "execution_count": null,
   "id": "b91bb7e5",
   "metadata": {},
   "outputs": [],
   "source": [
    "n=int(input())\n",
    "for i in range(1,n+1):\n",
    "    for k in range(0,n-i):\n",
    "        print(end=\" \")\n",
    "    for j in range(1,i+1):\n",
    "        print('*',end=\"\")\n",
    "    print()"
   ]
  },
  {
   "cell_type": "code",
   "execution_count": null,
   "id": "895c7316",
   "metadata": {},
   "outputs": [],
   "source": [
    "def myfunc():\n",
    "    global x\n",
    "    x = \"fantastic\"\n",
    "    x=\"heyyyy\"\n",
    "\n",
    "x=\"awesome\"\n",
    "myfunc()\n",
    "\n",
    "print(\"Python is \" + x)"
   ]
  },
  {
   "cell_type": "code",
   "execution_count": null,
   "id": "b2b374af",
   "metadata": {},
   "outputs": [],
   "source": [
    "age = 36\n",
    "txt = \"My name is John, I am \" + str(age)\n",
    "print(txt)"
   ]
  },
  {
   "cell_type": "code",
   "execution_count": null,
   "id": "48a2de0a",
   "metadata": {},
   "outputs": [],
   "source": [
    "age = 36\n",
    "txt = \"My name is John, and I am {}\"\n",
    "print(txt.format(age))"
   ]
  },
  {
   "cell_type": "code",
   "execution_count": null,
   "id": "ca909054",
   "metadata": {},
   "outputs": [],
   "source": [
    "txt = \"We are the so-called \",\"Vikings\" ,\" from the north.\"\n",
    "print(txt)"
   ]
  },
  {
   "cell_type": "code",
   "execution_count": null,
   "id": "93e6a99c",
   "metadata": {},
   "outputs": [],
   "source": [
    "type(txt)"
   ]
  },
  {
   "cell_type": "code",
   "execution_count": null,
   "id": "1a5dcc8f",
   "metadata": {},
   "outputs": [],
   "source": [
    "a,b=1,2"
   ]
  },
  {
   "cell_type": "code",
   "execution_count": null,
   "id": "af7c9e69",
   "metadata": {},
   "outputs": [],
   "source": [
    "a=1,2"
   ]
  },
  {
   "cell_type": "code",
   "execution_count": null,
   "id": "5af25a1c",
   "metadata": {},
   "outputs": [],
   "source": [
    "a=\"1\",\"2\""
   ]
  },
  {
   "cell_type": "code",
   "execution_count": null,
   "id": "1fceaad0",
   "metadata": {},
   "outputs": [],
   "source": [
    "print(a)"
   ]
  },
  {
   "cell_type": "code",
   "execution_count": null,
   "id": "21fd4ff7",
   "metadata": {},
   "outputs": [],
   "source": [
    "n=int(input())\n",
    "for i in range(1,n+1):\n",
    "    for j in range(0,n-i):\n",
    "        print(end=\" \")\n",
    "    for k in range(1,i+1):\n",
    "        print(k,end=\"\")\n",
    "    print()"
   ]
  },
  {
   "cell_type": "code",
   "execution_count": null,
   "id": "876a28fa",
   "metadata": {},
   "outputs": [],
   "source": [
    "n=int(input())\n",
    "val=65\n",
    "for i in range(n-1):\n",
    "    val+=1\n",
    "for i in range(1,n+1):\n",
    "    for j in range(1,i+1):\n",
    "        print(chr(val+j-i),end=\"\")\n",
    "    print()"
   ]
  },
  {
   "cell_type": "code",
   "execution_count": null,
   "id": "7a0b29ab",
   "metadata": {},
   "outputs": [],
   "source": [
    "n=int(input())\n",
    "for i in range(0,n+1):\n",
    "    if i>1:\n",
    "        for j in range(2,i):\n",
    "            if i%j==0:\n",
    "                break\n",
    "        else:\n",
    "            print(i)"
   ]
  },
  {
   "cell_type": "code",
   "execution_count": null,
   "id": "3b8adc11",
   "metadata": {
    "scrolled": false
   },
   "outputs": [],
   "source": [
    "for i in range(1,6):\n",
    "    for j in range(5,0,-1):\n",
    "        if j<=i:\n",
    "            print(j,end=\"\")\n",
    "        else:\n",
    "            print(\" \",end=\"\")\n",
    "    print()"
   ]
  },
  {
   "cell_type": "code",
   "execution_count": null,
   "id": "79d2a17f",
   "metadata": {},
   "outputs": [],
   "source": [
    "list=[3,4,6,1,2]\n",
    "list[1:2]=[7,8]\n",
    "print(list)"
   ]
  },
  {
   "cell_type": "code",
   "execution_count": null,
   "id": "92c4eea4",
   "metadata": {},
   "outputs": [],
   "source": [
    "n=int(input())\n",
    "print(n)\n",
    "l=[]\n",
    "for i in range(n):\n",
    "    x=int(input())\n",
    "    l.append(x)\n",
    "l.sort()\n",
    "count1=0\n",
    "count2=0\n",
    "count3=0\n",
    "count4=0\n",
    "count5=0\n",
    "count6=0\n",
    "count7=0\n",
    "for i in range(0,n):\n",
    "    if l[i]==1:\n",
    "        count1+=1\n",
    "    if l[i]==2:\n",
    "        count2+=1\n",
    "    if l[i]==3:\n",
    "        count3+=1\n",
    "    if l[i]==4:\n",
    "        count4+=1\n",
    "    if l[i]==5:\n",
    "        count5+=1\n",
    "    if l[i]==6:\n",
    "        count6+=1\n",
    "    if l[i]==7:\n",
    "        count7+=1\n",
    "print(1,count1)\n",
    "print(2,count2)\n",
    "print(3,count3)\n",
    "print(4,count4)\n",
    "print(5,count5)\n",
    "print(6,count6)\n",
    "print(7,count7)"
   ]
  },
  {
   "cell_type": "code",
   "execution_count": null,
   "id": "71b8ff6e",
   "metadata": {},
   "outputs": [],
   "source": [
    "a=[1,2,3,4,5,6]\n",
    "print(a[0])\n",
    "print(a[1])\n",
    "print(a[2])"
   ]
  },
  {
   "cell_type": "code",
   "execution_count": null,
   "id": "7d5e357a",
   "metadata": {},
   "outputs": [],
   "source": [
    "a=[1,2,3,3,4,5,6]\n",
    "for i in a:\n",
    "    print(i)"
   ]
  },
  {
   "cell_type": "code",
   "execution_count": null,
   "id": "d2c91222",
   "metadata": {},
   "outputs": [],
   "source": [
    "a=[[1,2,3],\n",
    "   [4,5,6],\n",
    "   [7,8,9]]\n",
    "for i in range(len(a)):\n",
    "    for j in range(len(a)):\n",
    "        print(a[i][j],end=\" \")\n",
    "    print()"
   ]
  },
  {
   "cell_type": "code",
   "execution_count": null,
   "id": "7998a17a",
   "metadata": {},
   "outputs": [],
   "source": [
    "a=[[1,2,3],[4,5,6],[7,8,9]]\n",
    "b=[[10,11,12],[13,14,15],[16,17,18]]\n",
    "a+=b\n",
    "print(a)"
   ]
  },
  {
   "cell_type": "code",
   "execution_count": null,
   "id": "785e77bb",
   "metadata": {},
   "outputs": [],
   "source": [
    "a=[[1,2,3],[4,5,6],[7,8,9]]\n",
    "b=[[10,11,12],[13,14,15],[16,17,18]]\n",
    "c=[[0,0,0],[0,0,0],[0,0,0]]\n",
    "for i in range(len(a)):\n",
    "    for j in range(len(b)):\n",
    "        c[i][j]=a[i][j]+b[i][j]\n",
    "print(c)"
   ]
  },
  {
   "cell_type": "code",
   "execution_count": null,
   "id": "293c6406",
   "metadata": {},
   "outputs": [],
   "source": [
    "a=[[1,2,3],[4,5,6],[7,8,9]]\n",
    "b=[[10,11,12],[13,14,15],[16,17,18]]\n",
    "for i in range(len(a)):\n",
    "    for j in range(len(b[0])):\n",
    "        c[i][j]+=a[i][j]+b[i][j]\n",
    "print(c)"
   ]
  },
  {
   "cell_type": "code",
   "execution_count": null,
   "id": "a24a83c4",
   "metadata": {},
   "outputs": [],
   "source": [
    "a=[[1,2,3],[4,5,6],[7,8,9]]\n",
    "b=[[10,11,12],[13,14,15],[16,17,18]]\n",
    "c=[[0,0,0],[0,0,0],[0,0,0]]\n",
    "for i in range(len(a)):\n",
    "    for j in range(len(b[0])):\n",
    "        for k in range (len(b)):\n",
    "            c[i][j]+=a[i][j]*b[k][i]\n",
    "print(c)"
   ]
  },
  {
   "cell_type": "code",
   "execution_count": null,
   "id": "46d483cd",
   "metadata": {},
   "outputs": [],
   "source": [
    "a=[[1,2,3],[3,4,5],[5,6,7]]\n",
    "for i in a:\n",
    "    print(\"the addition of\", i,\"row is\", sum(i))"
   ]
  },
  {
   "cell_type": "code",
   "execution_count": null,
   "id": "c4874ab7",
   "metadata": {},
   "outputs": [],
   "source": [
    "a=[]\n",
    "n=int(input())\n",
    "for i in range(n):\n",
    "    row=[]\n",
    "    for j in range(n):\n",
    "        x=int(input())\n",
    "        row.append(x)\n",
    "    a.append(row)\n",
    "print(a)"
   ]
  },
  {
   "cell_type": "code",
   "execution_count": null,
   "id": "e9649856",
   "metadata": {},
   "outputs": [],
   "source": [
    "v=[]\n",
    "n=int(input())\n",
    "for i in range(n):\n",
    "    row=[]\n",
    "    for j in range(n):\n",
    "        x=int(input())\n",
    "        row.append(x)\n",
    "    v.append(row)\n",
    "print(v)"
   ]
  },
  {
   "cell_type": "code",
   "execution_count": null,
   "id": "471972a7",
   "metadata": {},
   "outputs": [],
   "source": [
    "c=[]\n",
    "n=int(input())\n",
    "for i in range(n):\n",
    "    row=[]\n",
    "    for j in range(n):\n",
    "        x=int(input())\n",
    "        row.append(x)\n",
    "    c.append(row)\n",
    "print(c)"
   ]
  },
  {
   "cell_type": "code",
   "execution_count": null,
   "id": "63ea71ce",
   "metadata": {},
   "outputs": [],
   "source": [
    "for i in range(len(a)):\n",
    "    for j in range(len(a[0])):\n",
    "        for k in range(len(v)):\n",
    "            c[i][j]=a[i][j]+v[i][j]\n",
    "print(c)"
   ]
  },
  {
   "cell_type": "code",
   "execution_count": null,
   "id": "83d53a3e",
   "metadata": {},
   "outputs": [],
   "source": [
    "for i in range(n):\n",
    "    for j in range(n):\n",
    "        c[i][j]=a[i][j]+v[i][j]\n",
    "        print(c[i][j],end=\" \")\n",
    "    print()\n",
    "print(c)"
   ]
  },
  {
   "cell_type": "markdown",
   "id": "0fbd8f62",
   "metadata": {},
   "source": [
    "#"
   ]
  },
  {
   "cell_type": "markdown",
   "id": "f4871212",
   "metadata": {},
   "source": [
    "# List Comprehension"
   ]
  },
  {
   "cell_type": "markdown",
   "id": "66491d56",
   "metadata": {},
   "source": [
    "#"
   ]
  },
  {
   "cell_type": "code",
   "execution_count": 2,
   "id": "8347b853",
   "metadata": {},
   "outputs": [
    {
     "name": "stdout",
     "output_type": "stream",
     "text": [
      "[1, 4, 81, 16, 25]\n"
     ]
    }
   ],
   "source": [
    "list=[1,2,9,4,5]\n",
    "list2=[]\n",
    "for i in range(len(list)):\n",
    "    b=list[i]**2\n",
    "    list2.append(b)\n",
    "print(list2)"
   ]
  },
  {
   "cell_type": "code",
   "execution_count": 3,
   "id": "6ff00b2d",
   "metadata": {},
   "outputs": [
    {
     "name": "stdout",
     "output_type": "stream",
     "text": [
      "[1, 4, 81, 16, 25]\n"
     ]
    }
   ],
   "source": [
    "list=[1,2,9,4,5]\n",
    "newlist=[x*x for x in list]\n",
    "print(newlist)"
   ]
  },
  {
   "cell_type": "code",
   "execution_count": 4,
   "id": "8d94329a",
   "metadata": {},
   "outputs": [
    {
     "name": "stdout",
     "output_type": "stream",
     "text": [
      "[2, 4, 6]\n"
     ]
    }
   ],
   "source": [
    "li=[1,2,3,4,5,6]\n",
    "newlist=[]\n",
    "for i in li:\n",
    "    if i%2==0:\n",
    "        newlist.append(i)\n",
    "print(newlist)"
   ]
  },
  {
   "cell_type": "code",
   "execution_count": 5,
   "id": "0077b048",
   "metadata": {},
   "outputs": [
    {
     "name": "stdout",
     "output_type": "stream",
     "text": [
      "[2, 4, 6, 12, 18, 10]\n"
     ]
    }
   ],
   "source": [
    "list=[1,2,3,4,5,6,12,18,10]\n",
    "newlist=[x for x in list if x%2==0]\n",
    "print(newlist)"
   ]
  },
  {
   "cell_type": "code",
   "execution_count": 6,
   "id": "9dc36b68",
   "metadata": {},
   "outputs": [
    {
     "name": "stdout",
     "output_type": "stream",
     "text": [
      "[1, 2, 3, 4, 5, 6, 12, 18, 10]\n"
     ]
    }
   ],
   "source": [
    "newlist=[x for x in list]\n",
    "print(newlist)"
   ]
  },
  {
   "cell_type": "code",
   "execution_count": 7,
   "id": "9cf31591",
   "metadata": {},
   "outputs": [
    {
     "name": "stdout",
     "output_type": "stream",
     "text": [
      "[6, 12, 18]\n"
     ]
    }
   ],
   "source": [
    "newlist=[x for x in list if x%2==0 if x%3==0]\n",
    "print(newlist)"
   ]
  },
  {
   "cell_type": "code",
   "execution_count": 8,
   "id": "1a4ed0d1",
   "metadata": {},
   "outputs": [
    {
     "name": "stdout",
     "output_type": "stream",
     "text": [
      "[2, 4, 6]\n"
     ]
    }
   ],
   "source": [
    "l1=[1,2,3,4,5,6]\n",
    "l2=[2,4,6,7]\n",
    "new=[x for x in l1 if x in l2]\n",
    "print(new)"
   ]
  },
  {
   "cell_type": "code",
   "execution_count": 9,
   "id": "1665d9cd",
   "metadata": {},
   "outputs": [
    {
     "name": "stdout",
     "output_type": "stream",
     "text": [
      "[2, 4, 6]\n"
     ]
    }
   ],
   "source": [
    "newlist=[]\n",
    "for x in l1:\n",
    "    for j in l2:\n",
    "        if x==j:\n",
    "            newlist.append(x)\n",
    "print(newlist)"
   ]
  },
  {
   "cell_type": "code",
   "execution_count": 10,
   "id": "a424ea1f",
   "metadata": {},
   "outputs": [
    {
     "name": "stdout",
     "output_type": "stream",
     "text": [
      "[2, 4, 6]\n"
     ]
    }
   ],
   "source": [
    "newlist=[]\n",
    "for x in l1:\n",
    "    if x in l2:\n",
    "        newlist.append(x)\n",
    "print(newlist)"
   ]
  },
  {
   "cell_type": "code",
   "execution_count": 11,
   "id": "36f1c329",
   "metadata": {},
   "outputs": [
    {
     "name": "stdout",
     "output_type": "stream",
     "text": [
      "[4, 16, 36]\n"
     ]
    }
   ],
   "source": [
    "list=[1,2,3,4,5,6]\n",
    "newlist=[x*x for x in list if x%2==0 ]\n",
    "print(newlist)"
   ]
  },
  {
   "cell_type": "code",
   "execution_count": 12,
   "id": "76269f13",
   "metadata": {},
   "outputs": [
    {
     "name": "stdout",
     "output_type": "stream",
     "text": [
      "[1, 4, 3, 16, 5, 36]\n"
     ]
    }
   ],
   "source": [
    "list=[1,2,3,4,5,6]\n",
    "newlist=[]\n",
    "for x in list:\n",
    "    if x%2==0:\n",
    "        y=x*x\n",
    "        newlist.append(y)\n",
    "    else:\n",
    "        newlist.append(x)\n",
    "print(newlist)"
   ]
  },
  {
   "cell_type": "code",
   "execution_count": 13,
   "id": "ae8855b6",
   "metadata": {},
   "outputs": [
    {
     "name": "stdout",
     "output_type": "stream",
     "text": [
      "[1, 3, 4, 5, 16, 36]\n"
     ]
    }
   ],
   "source": [
    "oldlist=[x*x for x in list if x%2==0]\n",
    "newlist=[x for x in list if x%2!=0]\n",
    "hey=oldlist+newlist\n",
    "hey.sort()\n",
    "print(hey)"
   ]
  },
  {
   "cell_type": "code",
   "execution_count": 14,
   "id": "0e78aae2",
   "metadata": {},
   "outputs": [
    {
     "name": "stdout",
     "output_type": "stream",
     "text": [
      "[1, 3, 5]\n"
     ]
    }
   ],
   "source": [
    "print(newlist)"
   ]
  },
  {
   "cell_type": "code",
   "execution_count": 15,
   "id": "3e73855e",
   "metadata": {},
   "outputs": [
    {
     "name": "stdout",
     "output_type": "stream",
     "text": [
      "[1, 4, 3, 16, 5, 36]\n"
     ]
    }
   ],
   "source": [
    "newlist=[x*x if x%2==0 else x for x in list]\n",
    "print(newlist)"
   ]
  },
  {
   "cell_type": "code",
   "execution_count": 16,
   "id": "af7dc35f",
   "metadata": {},
   "outputs": [
    {
     "name": "stdout",
     "output_type": "stream",
     "text": [
      "[4, 16, 36]\n"
     ]
    }
   ],
   "source": [
    "newlist=[x*x for x in list if x%2==0]\n",
    "print(newlist)"
   ]
  },
  {
   "cell_type": "code",
   "execution_count": 17,
   "id": "65675b94",
   "metadata": {},
   "outputs": [
    {
     "name": "stdout",
     "output_type": "stream",
     "text": [
      "['g', 'o', 'd', 'b', 'l', 'e', 's', 's', 'y', 'o', 'u']\n"
     ]
    }
   ],
   "source": [
    "str=\"godblessyou\"\n",
    "list=[]\n",
    "for x in str:\n",
    "    list.append(x)\n",
    "print(list)"
   ]
  },
  {
   "cell_type": "code",
   "execution_count": 18,
   "id": "08e0118e",
   "metadata": {},
   "outputs": [
    {
     "name": "stdout",
     "output_type": "stream",
     "text": [
      "[['g'], ['o'], ['d'], ['b'], ['l'], ['e'], ['s'], ['s'], ['y'], ['o'], ['u']]\n"
     ]
    }
   ],
   "source": [
    "newlist=[[y for y in x] for x in str]\n",
    "print(newlist)"
   ]
  },
  {
   "cell_type": "code",
   "execution_count": 19,
   "id": "b7abc697",
   "metadata": {},
   "outputs": [
    {
     "name": "stdout",
     "output_type": "stream",
     "text": [
      "[['g', 'o', 'd'], ['b', 'l', 'e', 's', 's'], ['y', 'o', 'u']]\n"
     ]
    }
   ],
   "source": [
    "a=['god','bless','you']\n",
    "list0=[]\n",
    "list1=[]\n",
    "list2=[]\n",
    "for x in a[0]:\n",
    "    list0.append(x)\n",
    "for x in a[1]:\n",
    "    list1.append(x)\n",
    "for x in a[2]:\n",
    "    list2.append(x)\n",
    "newlist=[]\n",
    "newlist.append(list0)\n",
    "newlist.append(list1)\n",
    "newlist.append(list2)\n",
    "print(newlist)"
   ]
  },
  {
   "cell_type": "code",
   "execution_count": null,
   "id": "cc0a8406",
   "metadata": {},
   "outputs": [],
   "source": [
    "newlist=[[y for y in x]for x in a]\n",
    "print(newlist)"
   ]
  },
  {
   "cell_type": "code",
   "execution_count": null,
   "id": "0a2716ef",
   "metadata": {},
   "outputs": [],
   "source": [
    "n=int(input())\n",
    "newlist=[n*x for x in range(1,11)]"
   ]
  },
  {
   "cell_type": "code",
   "execution_count": null,
   "id": "44fe8d98",
   "metadata": {},
   "outputs": [],
   "source": [
    "print(newlist)"
   ]
  },
  {
   "cell_type": "code",
   "execution_count": null,
   "id": "451d1673",
   "metadata": {},
   "outputs": [],
   "source": [
    "newlist2=[x for x in newlist if x%2==0]\n",
    "newlist3=[x for x in newlist if x%2!=0]\n",
    "print(newlist3+newlist2)"
   ]
  },
  {
   "cell_type": "code",
   "execution_count": null,
   "id": "6bacfd03",
   "metadata": {},
   "outputs": [],
   "source": [
    "newlist2=['even' if x%2==0 else 'odd' for x in newlist]"
   ]
  },
  {
   "cell_type": "code",
   "execution_count": null,
   "id": "4bfa884c",
   "metadata": {},
   "outputs": [],
   "source": [
    "print(newlist2)"
   ]
  },
  {
   "cell_type": "code",
   "execution_count": null,
   "id": "a861a647",
   "metadata": {},
   "outputs": [],
   "source": [
    "def prime(n):\n",
    "    prime=True\n",
    "    for i in range(2,n):\n",
    "        if n%i==0:\n",
    "            prime=False\n",
    "            break\n",
    "    if prime==True:\n",
    "            return 1\n",
    "    return 0\n",
    "a=[prime(x) for x in range(2,100)]\n",
    "print(a)"
   ]
  },
  {
   "cell_type": "code",
   "execution_count": null,
   "id": "dd1b1bee",
   "metadata": {},
   "outputs": [],
   "source": [
    "def pri(n):\n",
    "    prime=True\n",
    "    for i in range(n):\n",
    "        if n%i==0:\n",
    "            prime=False\n",
    "            break\n",
    "        if prime:\n",
    "            return 1\n",
    "    return 0\n",
    "a=[prime(x) for x in range(2,100)]\n",
    "print(a)"
   ]
  },
  {
   "cell_type": "code",
   "execution_count": null,
   "id": "c099d770",
   "metadata": {},
   "outputs": [],
   "source": [
    "str=input().split()\n",
    "n,m=[int(str[0]),int(str[1])]\n",
    "newlist=[[int(i) for i in input().split()]for i in range(n)]"
   ]
  },
  {
   "cell_type": "code",
   "execution_count": null,
   "id": "38da79b2",
   "metadata": {},
   "outputs": [],
   "source": [
    "print(newlist)"
   ]
  },
  {
   "cell_type": "code",
   "execution_count": null,
   "id": "da1d18e3",
   "metadata": {},
   "outputs": [],
   "source": [
    "a=int(input())\n",
    "newlist=[[int(i) for i in input().split()]for i in range(a)]\n",
    "print(newlist)"
   ]
  },
  {
   "cell_type": "code",
   "execution_count": null,
   "id": "8019ca5b",
   "metadata": {},
   "outputs": [],
   "source": [
    "def sumofdigits(x):\n",
    "    sum=0\n",
    "    if x%2==0:\n",
    "        return 0\n",
    "    else:\n",
    "        while x!=0:\n",
    "            a=x%10\n",
    "            sum+=a\n",
    "            x=x//10\n",
    "        return sum\n",
    "n=int(input())\n",
    "list=[int(x) for x in input().split()]\n",
    "li=[ sumofdigits(q) for q in list]\n",
    "print(list)\n",
    "print(li)"
   ]
  },
  {
   "cell_type": "code",
   "execution_count": null,
   "id": "5ef4006c",
   "metadata": {},
   "outputs": [],
   "source": [
    "import random\n",
    "import array\n",
    "\n",
    "# maximum length of password needed\n",
    "# this can be changed to suit your password length\n",
    "MAX_LEN = int(input())\n",
    "\n",
    "# declare arrays of the character that we need in out password\n",
    "# Represented as chars to enable easy string concatenation\n",
    "DIGITS = ['0', '1', '2', '3', '4', '5', '6', '7', '8', '9']\n",
    "LOCASE_CHARACTERS = ['a', 'b', 'c', 'd', 'e', 'f', 'g', 'h',\n",
    "\t\t\t\t\t'i', 'j', 'k', 'm', 'n', 'o', 'p', 'q',\n",
    "\t\t\t\t\t'r', 's', 't', 'u', 'v', 'w', 'x', 'y',\n",
    "\t\t\t\t\t'z']\n",
    "\n",
    "UPCASE_CHARACTERS = ['A', 'B', 'C', 'D', 'E', 'F', 'G', 'H',\n",
    "\t\t\t\t\t'I', 'J', 'K', 'M', 'N', 'O', 'P', 'Q',\n",
    "\t\t\t\t\t'R', 'S', 'T', 'U', 'V', 'W', 'X', 'Y',\n",
    "\t\t\t\t\t'Z']\n",
    "\n",
    "SYMBOLS = ['@', '#', '$', '%', '=', ':', '?', '.', '/', '|', '~', '>',\n",
    "\t\t'*', '(', ')', '<']\n",
    "\n",
    "# combines all the character arrays above to form one array\n",
    "COMBINED_LIST = DIGITS + UPCASE_CHARACTERS + LOCASE_CHARACTERS + SYMBOLS\n",
    "\n",
    "# randomly select at least one character from each character set above\n",
    "rand_digit = random.choice(DIGITS)\n",
    "rand_upper = random.choice(UPCASE_CHARACTERS)\n",
    "rand_lower = random.choice(LOCASE_CHARACTERS)\n",
    "rand_symbol = random.choice(SYMBOLS)\n",
    "\n",
    "# combine the character randomly selected above\n",
    "# at this stage, the password contains only 4 characters but\n",
    "# we want a 12-character password\n",
    "temp_pass = rand_digit + rand_upper + rand_lower + rand_symbol\n",
    "\n",
    "\n",
    "# now that we are sure we have at least one character from each\n",
    "# set of characters, we fill the rest of\n",
    "# the password length by selecting randomly from the combined\n",
    "# list of character above.\n",
    "for x in range(MAX_LEN - 4):\n",
    "\ttemp_pass = temp_pass + random.choice(COMBINED_LIST)\n",
    "\n",
    "\t# convert temporary password into array and shuffle to\n",
    "\t# prevent it from having a consistent pattern\n",
    "\t# where the beginning of the password is predictable\n",
    "\ttemp_pass_list = array.array('u', temp_pass)\n",
    "\trandom.shuffle(temp_pass_list)\n",
    "\n",
    "# traverse the temporary password array and append the chars\n",
    "# to form the password\n",
    "password = \"\"\n",
    "for x in temp_pass_list:\n",
    "\t\tpassword = password + x\n",
    "\t\t\n",
    "# print out password\n",
    "print(password)\n"
   ]
  },
  {
   "cell_type": "code",
   "execution_count": null,
   "id": "59a4c60f",
   "metadata": {},
   "outputs": [],
   "source": [
    "# tic_tac_toe.py\n",
    "\n",
    "import tkinter as tk\n",
    "from tkinter import font\n",
    "\n",
    "class TicTacToeBoard(tk.Tk):\n",
    "    def __init__(self):\n",
    "        super().__init__()\n",
    "        self.title(\"Tic-Tac-Toe Game\")\n",
    "        self._cells = {}"
   ]
  },
  {
   "cell_type": "code",
   "execution_count": null,
   "id": "1eeef00e",
   "metadata": {},
   "outputs": [],
   "source": [
    "import random\n",
    "import math\n",
    "# Taking Inputs\n",
    "lower = int(input(\"Enter Lower bound:- \"))\n",
    "\n",
    "# Taking Inputs\n",
    "upper = int(input(\"Enter Upper bound:- \"))\n",
    "\n",
    "# generating random number between\n",
    "# the lower and upper\n",
    "x = random.randint(lower, upper)\n",
    "print(\"\\n\\tYou've only \",\n",
    "\tround(math.log(upper - lower + 1, 2)),\n",
    "\t\" chances to guess the integer!\\n\")\n",
    "\n",
    "# Initializing the number of guesses.\n",
    "count = 0\n",
    "\n",
    "# for calculation of minimum number of\n",
    "# guesses depends upon range\n",
    "while count < math.log(upper - lower + 1, 2):\n",
    "\tcount += 1\n",
    "\n",
    "\t# taking guessing number as input\n",
    "\tguess = int(input(\"Guess a number:- \"))\n",
    "\n",
    "\t# Condition testing\n",
    "\tif x == guess:\n",
    "\t\tprint(\"Congratulations you did it in \",\n",
    "\t\t\tcount, \" try\")\n",
    "\t\t# Once guessed, loop will break\n",
    "\t\tbreak\n",
    "\telif x > guess:\n",
    "\t\tprint(\"You guessed too small!\")\n",
    "\telif x < guess:\n",
    "\t\tprint(\"You Guessed too high!\")\n",
    "\n",
    "# If Guessing is more than required guesses,\n",
    "# shows this output.\n",
    "if count >= math.log(upper - lower + 1, 2):\n",
    "\tprint(\"\\nThe number is %d\" % x)\n",
    "\tprint(\"\\tBetter Luck Next time!\")\n",
    "\n",
    "# Better to use This source Code on pycharm!\n"
   ]
  },
  {
   "cell_type": "code",
   "execution_count": null,
   "id": "a4e8421e",
   "metadata": {},
   "outputs": [],
   "source": [
    "import random\n",
    "import math\n",
    "# Taking Inputs\n",
    "lower = int(input(\"Enter Lower bound:- \"))\n",
    "\n",
    "# Taking Inputs\n",
    "upper = int(input(\"Enter Upper bound:- \"))\n",
    "\n",
    "# generating random number between\n",
    "# the lower and upper\n",
    "x = random.randint(lower, upper)\n",
    "print(\"\\n\\tYou've only \",\n",
    "\tround(math.log(upper - lower + 1, 2)),\n",
    "\t\" chances to guess the integer!\\n\")\n",
    "\n",
    "# Initializing the number of guesses.\n",
    "count = 0\n",
    "\n",
    "# for calculation of minimum number of\n",
    "# guesses depends upon range\n",
    "while count < math.log(upper - lower + 1, 2):\n",
    "\tcount += 1\n",
    "\n",
    "\t# taking guessing number as input\n",
    "\tguess = int(input(\"Guess a number:- \"))\n",
    "\n",
    "\t# Condition testing\n",
    "\tif x == guess:\n",
    "\t\tprint(\"Congratulations you did it in \",\n",
    "\t\t\tcount, \" try\")\n",
    "\t\t# Once guessed, loop will break\n",
    "\t\tbreak\n",
    "\telif x > guess:\n",
    "\t\tprint(\"You guessed too small!\")\n",
    "\telif x < guess:\n",
    "\t\tprint(\"You Guessed too high!\")\n",
    "\n",
    "# If Guessing is more than required guesses,\n",
    "# shows this output.\n",
    "if count >= math.log(upper - lower + 1, 2):\n",
    "\tprint(\"\\nThe number is %d\" % x)\n",
    "\tprint(\"\\tBetter Luck Next time!\")\n",
    "\n",
    "# Better to use This source Code on pycharm!\n"
   ]
  },
  {
   "cell_type": "code",
   "execution_count": null,
   "id": "4bbdf0e3",
   "metadata": {},
   "outputs": [],
   "source": [
    "import random\n",
    "import array\n",
    "\n",
    "MAX_LEN = int(input())\n",
    "\n",
    "DIGITS = ['0', '1', '2', '3', '4', '5', '6', '7', '8', '9']\n",
    "LOCASE_CHARACTERS = ['a', 'b', 'c', 'd', 'e', 'f', 'g', 'h','i', 'j', 'k', 'm', 'n', 'o', 'p', 'q','r', 's', 't', 'u', 'v', 'w', 'x', 'y','z']\n",
    "\n",
    "UPCASE_CHARACTERS = ['A', 'B', 'C', 'D', 'E', 'F', 'G', 'H','I', 'J', 'K', 'M', 'N', 'O', 'P', 'Q','R', 'S', 'T', 'U', 'V', 'W', 'X', 'Y','Z']\n",
    "\n",
    "SYMBOLS = ['@', '#', '$', '%', '=', ':', '?', '.', '/', '|', '~', '>','*', '(', ')', '<']\n",
    "\n",
    "COMBINED_LIST = DIGITS + UPCASE_CHARACTERS + LOCASE_CHARACTERS + SYMBOLS\n",
    "\n",
    "rand_digit = random.choice(DIGITS)\n",
    "rand_upper = random.choice(UPCASE_CHARACTERS)\n",
    "rand_lower = random.choice(LOCASE_CHARACTERS)\n",
    "rand_symbol = random.choice(SYMBOLS)\n",
    "\n",
    "temp_pass = rand_digit + rand_upper + rand_lower + rand_symbol\n",
    "\n",
    "for x in range(MAX_LEN - 4):\n",
    "\ttemp_pass = temp_pass + random.choice(COMBINED_LIST)\n",
    "print(\"Your generated password is\",temp_pass)"
   ]
  },
  {
   "cell_type": "code",
   "execution_count": null,
   "id": "7b6f4a78",
   "metadata": {},
   "outputs": [],
   "source": [
    "length=False\n",
    "lflag=False\n",
    "uflag=False\n",
    "dflag=False\n",
    "passs=input()\n",
    "if len(pass)>=8:\n",
    "    length=True\n",
    "for i in range(len(passs)):\n",
    "    x=passs[i]\n",
    "    if x.isupper()==True:\n",
    "        uflag=True\n",
    "    if x.islower()==True:\n",
    "        lflag=True\n",
    "    if x.isdigit()==True:\n",
    "        dflag=True\n",
    "if length and lflag and uflag and dflag:\n",
    "    print(\"yes\")\n",
    "else:\n",
    "    print(\"no\")"
   ]
  },
  {
   "cell_type": "code",
   "execution_count": null,
   "id": "950d7ecc",
   "metadata": {},
   "outputs": [],
   "source": [
    "length=False\n",
    "lflag=False\n",
    "uflag=False\n",
    "dflag=False\n",
    "passs=input()\n",
    "if len(passs)>=8:\n",
    "    length=True\n",
    "for i in range(len(passs)):\n",
    "    x=passs[i]\n",
    "    if x.isupper()==True:\n",
    "        uflag=True\n",
    "    if x.islower()==True:\n",
    "        lflag=True\n",
    "    if x.isdigit()==True:\n",
    "        dflag=True\n",
    "if length and lflag and uflag and dflag:\n",
    "    print(\"yes\")\n",
    "else:\n",
    "    print(\"no\")"
   ]
  },
  {
   "cell_type": "code",
   "execution_count": null,
   "id": "c4c82e12",
   "metadata": {},
   "outputs": [],
   "source": [
    "import random\n",
    "# library that we use in order to choose\n",
    "# on random words from a list of words\n",
    "\n",
    "name = input(\"What is your name? \")\n",
    "\n",
    "# Here the user is asked to enter the name first\n",
    "\n",
    "print(\"Good Luck ! \", name)\n",
    "\n",
    "words = ['rainbow', 'computer', 'science', 'programming',\n",
    "\t\t'python', 'mathematics', 'player', 'condition',\n",
    "\t\t'reverse', 'water', 'board', 'geeks']\n",
    "\n",
    "# Function will choose one random\n",
    "# word from this list of words\n",
    "word = random.choice(words)\n",
    "\n",
    "\n",
    "print(\"Guess the characters\")\n",
    "\n",
    "guesses = ''\n",
    "\n",
    "# any number of turns can be used here\n",
    "turns = 12\n",
    "\n",
    "\n",
    "while turns > 0:\n",
    "\n",
    "\t# counts the number of times a user fails\n",
    "\tfailed = 0\n",
    "\n",
    "\t# all characters from the input\n",
    "\t# word taking one at a time.\n",
    "\tfor char in word:\n",
    "\n",
    "\t\t# comparing that character with\n",
    "\t\t# the character in guesses\n",
    "\t\tif char in guesses:\n",
    "\t\t\tprint(char, end=\" \")\n",
    "\n",
    "\t\telse:\n",
    "\t\t\tprint(\"_\")\n",
    "\n",
    "\t\t\t# for every failure 1 will be\n",
    "\t\t\t# incremented in failure\n",
    "\t\t\tfailed += 1\n",
    "\n",
    "\tif failed == 0:\n",
    "\t\t# user will win the game if failure is 0\n",
    "\t\t# and 'You Win' will be given as output\n",
    "\t\tprint(\"You Win\")\n",
    "\n",
    "\t\t# this print the correct word\n",
    "\t\tprint(\"The word is: \", word)\n",
    "\t\tbreak\n",
    "\n",
    "\t# if user has input the wrong alphabet then\n",
    "\t# it will ask user to enter another alphabet\n",
    "\tprint()\n",
    "\tguess = input(\"guess a character:\")\n",
    "\n",
    "\t# every input character will be stored in guesses\n",
    "\tguesses += guess\n",
    "\n",
    "\t# check input with the character in word\n",
    "\tif guess not in word:\n",
    "\n",
    "\t\tturns -= 1\n",
    "\n",
    "\t\t# if the character doesn’t match the word\n",
    "\t\t# then “Wrong” will be given as output\n",
    "\t\tprint(\"Wrong\")\n",
    "\n",
    "\t\t# this will print the number of\n",
    "\t\t# turns left for the user\n",
    "\t\tprint(\"You have\", + turns, 'more guesses')\n",
    "\n",
    "\t\tif turns == 0:\n",
    "\t\t\tprint(\"You Loose\")\n"
   ]
  },
  {
   "cell_type": "markdown",
   "id": "e00084fa",
   "metadata": {},
   "source": [
    "# Code\n",
    "# Code\n",
    "# Code"
   ]
  },
  {
   "cell_type": "code",
   "execution_count": 1,
   "id": "0af8cf5f",
   "metadata": {},
   "outputs": [
    {
     "name": "stdout",
     "output_type": "stream",
     "text": [
      "Enter Lower bound:- 1\n",
      "Enter Upper bound:- 100\n",
      "\n",
      "\tYou've only  7  chances to guess the integer!\n",
      "\n",
      "Guess a number:- 20\n",
      "You guessed too small!\n",
      "Guess a number:- 70\n",
      "You Guessed too high!\n",
      "Guess a number:- 40\n",
      "You guessed too small!\n",
      "Guess a number:- 50\n",
      "You guessed too small!\n",
      "Guess a number:- 58\n",
      "You guessed too small!\n",
      "Guess a number:- 62\n",
      "You Guessed too high!\n",
      "Guess a number:- 59\n",
      "You guessed too small!\n",
      "\n",
      "The number is 61\n",
      "\tBetter Luck Next time!\n"
     ]
    }
   ],
   "source": [
    "import random\n",
    "import math\n",
    "# Taking Inputs\n",
    "lower = int(input(\"Enter Lower bound:- \"))\n",
    "\n",
    "# Taking Inputs\n",
    "upper = int(input(\"Enter Upper bound:- \"))\n",
    "\n",
    "# generating random number between\n",
    "# the lower and upper\n",
    "x = random.randint(lower, upper)\n",
    "print(\"\\n\\tYou've only \",\n",
    "\tround(math.log(upper - lower + 1, 2)),\n",
    "\t\" chances to guess the integer!\\n\")\n",
    "\n",
    "# Initializing the number of guesses.\n",
    "count = 0\n",
    "\n",
    "# for calculation of minimum number of\n",
    "# guesses depends upon range\n",
    "while count < math.log(upper - lower + 1, 2):\n",
    "\tcount += 1\n",
    "\n",
    "\t# taking guessing number as input\n",
    "\tguess = int(input(\"Guess a number:- \"))\n",
    "\n",
    "\t# Condition testing\n",
    "\tif x == guess:\n",
    "\t\tprint(\"Congratulations you did it in \",\n",
    "\t\t\tcount, \" try\")\n",
    "\t\t# Once guessed, loop will break\n",
    "\t\tbreak\n",
    "\telif x > guess:\n",
    "\t\tprint(\"You guessed too small!\")\n",
    "\telif x < guess:\n",
    "\t\tprint(\"You Guessed too high!\")\n",
    "\n",
    "# If Guessing is more than required guesses,\n",
    "# shows this output.\n",
    "if count >= math.log(upper - lower + 1, 2):\n",
    "\tprint(\"\\nThe number is %d\" % x)\n",
    "\tprint(\"\\tBetter Luck Next time!\")\n",
    "\n",
    "# Better to use This source Code on pycharm!\n"
   ]
  },
  {
   "cell_type": "markdown",
   "id": "e4ca6986",
   "metadata": {},
   "source": [
    "# Code\n",
    "# Code\n",
    "# Code"
   ]
  },
  {
   "cell_type": "code",
   "execution_count": 1,
   "id": "2f3a2027",
   "metadata": {},
   "outputs": [
    {
     "name": "stdout",
     "output_type": "stream",
     "text": [
      "[1, 2, 4, 5, 6, 7]\n"
     ]
    },
    {
     "ename": "TypeError",
     "evalue": "'tuple' object is not callable",
     "output_type": "error",
     "traceback": [
      "\u001b[0;31m---------------------------------------------------------------------------\u001b[0m",
      "\u001b[0;31mTypeError\u001b[0m                                 Traceback (most recent call last)",
      "\u001b[0;32m/var/folders/gn/j_lswkfs7cj2s3b0cmnbgyr40000gn/T/ipykernel_7870/3610655243.py\u001b[0m in \u001b[0;36m<module>\u001b[0;34m\u001b[0m\n\u001b[1;32m      6\u001b[0m \u001b[0mx\u001b[0m\u001b[0;34m=\u001b[0m\u001b[0msorted\u001b[0m\u001b[0;34m(\u001b[0m\u001b[0mtuple\u001b[0m\u001b[0;34m)\u001b[0m\u001b[0;34m\u001b[0m\u001b[0;34m\u001b[0m\u001b[0m\n\u001b[1;32m      7\u001b[0m \u001b[0mprint\u001b[0m\u001b[0;34m(\u001b[0m\u001b[0mx\u001b[0m\u001b[0;34m)\u001b[0m\u001b[0;34m\u001b[0m\u001b[0;34m\u001b[0m\u001b[0m\n\u001b[0;32m----> 8\u001b[0;31m \u001b[0my\u001b[0m\u001b[0;34m=\u001b[0m\u001b[0mtuple\u001b[0m\u001b[0;34m(\u001b[0m\u001b[0mx\u001b[0m\u001b[0;34m)\u001b[0m\u001b[0;34m\u001b[0m\u001b[0;34m\u001b[0m\u001b[0m\n\u001b[0m\u001b[1;32m      9\u001b[0m \u001b[0mprint\u001b[0m\u001b[0;34m(\u001b[0m\u001b[0my\u001b[0m\u001b[0;34m)\u001b[0m\u001b[0;34m\u001b[0m\u001b[0;34m\u001b[0m\u001b[0m\n",
      "\u001b[0;31mTypeError\u001b[0m: 'tuple' object is not callable"
     ]
    }
   ],
   "source": [
    "'''l=[1,2,3,4]\n",
    "a=tuple(l)\n",
    "print(a)'''\n",
    "tuple=(1,4,6,2,7,5)\n",
    "a=list(tuple)\n",
    "x=sorted(tuple)\n",
    "print(x)\n",
    "y=tuple(x)\n",
    "print(y)"
   ]
  },
  {
   "cell_type": "code",
   "execution_count": 7,
   "id": "e416223e",
   "metadata": {},
   "outputs": [
    {
     "name": "stdout",
     "output_type": "stream",
     "text": [
      "123\n",
      "123\n"
     ]
    }
   ],
   "source": [
    "tuple1=('1','2','3')\n",
    "a,b,c=tuple1\n",
    "print(a+b+c)\n",
    "print(''.join(tuple1))"
   ]
  },
  {
   "cell_type": "code",
   "execution_count": 13,
   "id": "55da5286",
   "metadata": {},
   "outputs": [
    {
     "name": "stdout",
     "output_type": "stream",
     "text": [
      "The multiplication result of matrix A and B is: \n",
      "[30, 36, 42]\n",
      "[66, 81, 96]\n",
      "[102, 126, 150]\n"
     ]
    }
   ],
   "source": [
    "# program to multiply two matrices.\n",
    "# Declaring two matrix A and B in our program  \n",
    "A = [[1, 2, 3],  \n",
    "     [4, 5, 6],  \n",
    "     [7, 8, 9]]    \n",
    "B = [[1, 2, 3],  \n",
    "     [4, 5, 6],  \n",
    "     [7, 8, 9]]   \n",
    "     \n",
    "# Declaring an empty matrix to store result  \n",
    "result = [[0, 0, 0],    \n",
    "          [0, 0, 0],    \n",
    "          [0, 0, 0]]  \n",
    "# Using nested for loop for A & B matrix  \n",
    "for i in range(len(A)):    \n",
    "   for j in range(len(B[0])):    \n",
    "          for k in range(len(B)):    \n",
    "               result[i][j] += A[i][k] * B[k][j] # Storing multiplication result in result\n",
    "# Printing multiplication result in the output  \n",
    "print(\"The multiplication result of matrix A and B is: \")  \n",
    "for r in result:    \n",
    "   print(r)"
   ]
  },
  {
   "cell_type": "code",
   "execution_count": 16,
   "id": "41539c41",
   "metadata": {},
   "outputs": [
    {
     "name": "stdout",
     "output_type": "stream",
     "text": [
      "{1, 2, 5}\n"
     ]
    }
   ],
   "source": [
    "set={1,2}\n",
    "set.add(5)\n",
    "print(set)"
   ]
  },
  {
   "cell_type": "code",
   "execution_count": 2,
   "id": "3aa5cf6d",
   "metadata": {},
   "outputs": [
    {
     "name": "stdout",
     "output_type": "stream",
     "text": [
      "[2, 3, 4]\n"
     ]
    }
   ],
   "source": [
    "array=[1,2,3,4]\n",
    "array.remove(1)\n",
    "print(array)"
   ]
  },
  {
   "cell_type": "code",
   "execution_count": null,
   "id": "71ebf503",
   "metadata": {},
   "outputs": [],
   "source": []
  }
 ],
 "metadata": {
  "kernelspec": {
   "display_name": "Python 3 (ipykernel)",
   "language": "python",
   "name": "python3"
  },
  "language_info": {
   "codemirror_mode": {
    "name": "ipython",
    "version": 3
   },
   "file_extension": ".py",
   "mimetype": "text/x-python",
   "name": "python",
   "nbconvert_exporter": "python",
   "pygments_lexer": "ipython3",
   "version": "3.9.13"
  }
 },
 "nbformat": 4,
 "nbformat_minor": 5
}
