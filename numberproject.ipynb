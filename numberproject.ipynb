{
 "cells": [
  {
   "cell_type": "code",
   "execution_count": null,
   "id": "19d7f098",
   "metadata": {},
   "outputs": [
    {
     "name": "stdout",
     "output_type": "stream",
     "text": [
      "Enter Lower range:- 1\n",
      "Enter Upper range:- 2000\n",
      "\n",
      "\tYou've only  11  chances to guess the integer!\n",
      "\n",
      "Guess a number:- 100\n",
      "You guessed too small!\n",
      "Guess a number:- 1000\n",
      "You guessed too small!\n",
      "Guess a number:- 1500\n",
      "You Guessed too high!\n",
      "Guess a number:- 1250\n",
      "You Guessed too high!\n"
     ]
    }
   ],
   "source": [
    "import random\n",
    "import math\n",
    "\n",
    "# Taking an input of the lower limit of the deciding range.\n",
    "lower = int(input(\"Enter Lower range:- \"))\n",
    "\n",
    "# Taking an input of the upper limit of the deciding range.\n",
    "upper = int(input(\"Enter Upper range:- \"))\n",
    "\n",
    "# Generating a random number between the lower and the upper range.\n",
    "x = random.randint(lower, upper)\n",
    "print(\"\\n\\tYou've only \",\n",
    "    round(math.log(upper - lower + 1, 2)),\n",
    "    \" chances to guess the integer!\\n\")\n",
    "\n",
    "# Initializing the number of guesses.\n",
    "count = 0\n",
    "\n",
    "# for calculation of minimum number.\n",
    "# guesses depends upon range.\n",
    "while count < math.log(upper - lower + 1, 2):\n",
    "    count += 1\n",
    "\n",
    "    # taking guessing number as input.\n",
    "    guess = int(input(\"Guess a number:- \"))\n",
    "\n",
    "    # Condition testing i.e. if the guess is correct.\n",
    "    if x == guess:\n",
    "        print(\"Congratulations you did it in \",\n",
    "            count, \" try\")\n",
    "        # Once guessed, loop will break.\n",
    "        break\n",
    "    elif x > guess:\n",
    "        print(\"You guessed too small!\")\n",
    "    elif x < guess:\n",
    "        print(\"You Guessed too high!\")\n",
    "\n",
    "# If guessed answers are more than given number of guesses.\n",
    "# shows this output.\n",
    "if count >= math.log(upper - lower + 1, 2):\n",
    "    print(\"\\nThe number is %d\" % x)\n",
    "    print(\"\\tBetter Luck Next time!\")"
   ]
  },
  {
   "cell_type": "code",
   "execution_count": null,
   "id": "ae6f1d2b",
   "metadata": {},
   "outputs": [],
   "source": []
  }
 ],
 "metadata": {
  "kernelspec": {
   "display_name": "Python 3 (ipykernel)",
   "language": "python",
   "name": "python3"
  },
  "language_info": {
   "codemirror_mode": {
    "name": "ipython",
    "version": 3
   },
   "file_extension": ".py",
   "mimetype": "text/x-python",
   "name": "python",
   "nbconvert_exporter": "python",
   "pygments_lexer": "ipython3",
   "version": "3.9.13"
  }
 },
 "nbformat": 4,
 "nbformat_minor": 5
}
